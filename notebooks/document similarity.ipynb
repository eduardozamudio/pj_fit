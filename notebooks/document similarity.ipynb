{
 "cells": [
  {
   "cell_type": "markdown",
   "metadata": {},
   "source": [
    "# Topic similarity\n",
    "\n",
    "The aim of this notebook is to test a strategy to measure similarity between an **expert profile** and **project description**. \n",
    "\n",
    "Measuring similarity is suposed to be useful in determining how expert profiles fit for a given project description.\n",
    "\n",
    "The poposed alternatives to test similarity include:\n",
    "\n",
    "* LDA (topic modelling)\n",
    "* word2vec"
   ]
  },
  {
   "cell_type": "markdown",
   "metadata": {},
   "source": [
    "## LDA\n",
    "\n",
    "Our first approach involves applying LDA to build expert profiles using topic models.\n",
    "\n",
    "Here, **expert profiles** are defined as a set topic models, and this models are trained using documents asociated to every expert. For instance, in academics this documents could be research papers where the expert is an author.\n",
    "\n",
    "**Project descriptions** are defined as the contributions to the topic models of the expert profiles.\n",
    "\n",
    "The similarity between the project descriptions and the expert profiles can be measured using the Jensen-Shannon Distance (see [ref](https://www.kaggle.com/ktattan/lda-and-document-similarity#Similarity-Queries-and-Unseen-Data))"
   ]
  },
  {
   "cell_type": "markdown",
   "metadata": {},
   "source": [
    "### Load the data"
   ]
  },
  {
   "cell_type": "code",
   "execution_count": 35,
   "metadata": {},
   "outputs": [],
   "source": [
    "from os import listdir"
   ]
  },
  {
   "cell_type": "code",
   "execution_count": 36,
   "metadata": {},
   "outputs": [],
   "source": [
    "filenames = [x for x in listdir('../data/sedici') if 'node_articles_ciencias_informaticas' in x]"
   ]
  },
  {
   "cell_type": "code",
   "execution_count": 37,
   "metadata": {},
   "outputs": [],
   "source": [
    "df = pd.DataFrame()\n",
    "\n",
    "for filename in filenames:\n",
    "    df = pd.concat([df, pd.read_csv('../data/sedici/{0}'.format(filename))], ignore_index=True)"
   ]
  },
  {
   "cell_type": "code",
   "execution_count": 38,
   "metadata": {},
   "outputs": [
    {
     "data": {
      "text/plain": [
       "(32425, 4)"
      ]
     },
     "execution_count": 38,
     "metadata": {},
     "output_type": "execute_result"
    }
   ],
   "source": [
    "df.shape"
   ]
  },
  {
   "cell_type": "code",
   "execution_count": 39,
   "metadata": {},
   "outputs": [
    {
     "data": {
      "text/html": [
       "<div>\n",
       "<style scoped>\n",
       "    .dataframe tbody tr th:only-of-type {\n",
       "        vertical-align: middle;\n",
       "    }\n",
       "\n",
       "    .dataframe tbody tr th {\n",
       "        vertical-align: top;\n",
       "    }\n",
       "\n",
       "    .dataframe thead th {\n",
       "        text-align: right;\n",
       "    }\n",
       "</style>\n",
       "<table border=\"1\" class=\"dataframe\">\n",
       "  <thead>\n",
       "    <tr style=\"text-align: right;\">\n",
       "      <th></th>\n",
       "      <th>author_id</th>\n",
       "      <th>article_id</th>\n",
       "      <th>title</th>\n",
       "      <th>abstract</th>\n",
       "    </tr>\n",
       "  </thead>\n",
       "  <tbody>\n",
       "    <tr>\n",
       "      <th>0</th>\n",
       "      <td>55286</td>\n",
       "      <td>24446</td>\n",
       "      <td>Análisis automático del rendimiento de ejecuci...</td>\n",
       "      <td>La programación paralela más tradicional oblig...</td>\n",
       "    </tr>\n",
       "    <tr>\n",
       "      <th>1</th>\n",
       "      <td>55286</td>\n",
       "      <td>9582</td>\n",
       "      <td>Development and tuning framework of master/wor...</td>\n",
       "      <td>Parallel/distributed programming is a complex ...</td>\n",
       "    </tr>\n",
       "    <tr>\n",
       "      <th>2</th>\n",
       "      <td>55286</td>\n",
       "      <td>20899</td>\n",
       "      <td>Método de Reducción de Incertidumbre basado en...</td>\n",
       "      <td>La problemática existente a raíz de la falta d...</td>\n",
       "    </tr>\n",
       "    <tr>\n",
       "      <th>3</th>\n",
       "      <td>55286</td>\n",
       "      <td>9524</td>\n",
       "      <td>Process tracking for dynamic tuning applicatio...</td>\n",
       "      <td>The computational resources need by the scient...</td>\n",
       "    </tr>\n",
       "    <tr>\n",
       "      <th>4</th>\n",
       "      <td>55286</td>\n",
       "      <td>23166</td>\n",
       "      <td>Mapas de riesgo de incendios forestales basado...</td>\n",
       "      <td>La valoración del riesgo en los incendios fore...</td>\n",
       "    </tr>\n",
       "  </tbody>\n",
       "</table>\n",
       "</div>"
      ],
      "text/plain": [
       "   author_id  article_id                                              title  \\\n",
       "0      55286       24446  Análisis automático del rendimiento de ejecuci...   \n",
       "1      55286        9582  Development and tuning framework of master/wor...   \n",
       "2      55286       20899  Método de Reducción de Incertidumbre basado en...   \n",
       "3      55286        9524  Process tracking for dynamic tuning applicatio...   \n",
       "4      55286       23166  Mapas de riesgo de incendios forestales basado...   \n",
       "\n",
       "                                            abstract  \n",
       "0  La programación paralela más tradicional oblig...  \n",
       "1  Parallel/distributed programming is a complex ...  \n",
       "2  La problemática existente a raíz de la falta d...  \n",
       "3  The computational resources need by the scient...  \n",
       "4  La valoración del riesgo en los incendios fore...  "
      ]
     },
     "execution_count": 39,
     "metadata": {},
     "output_type": "execute_result"
    }
   ],
   "source": [
    "df.head()"
   ]
  },
  {
   "cell_type": "code",
   "execution_count": 40,
   "metadata": {},
   "outputs": [],
   "source": [
    "concat_results = []\n",
    "\n",
    "author_ids = df['author_id'].unique()\n",
    "\n",
    "for author_id in author_ids:\n",
    "    \n",
    "    content = ''\n",
    "    \n",
    "    for idx, row in df[df['author_id'] == author_id].iterrows():\n",
    "        content = content + '. '.join([str(row['title']), str(row['abstract'])]) + '\\n' \n",
    "        \n",
    "    concat_results.append((author_id, content))\n",
    "    \n",
    "df_content = pd.DataFrame(concat_results, columns=['author_id', 'content'])    "
   ]
  },
  {
   "cell_type": "code",
   "execution_count": 41,
   "metadata": {},
   "outputs": [
    {
     "data": {
      "text/html": [
       "<div>\n",
       "<style scoped>\n",
       "    .dataframe tbody tr th:only-of-type {\n",
       "        vertical-align: middle;\n",
       "    }\n",
       "\n",
       "    .dataframe tbody tr th {\n",
       "        vertical-align: top;\n",
       "    }\n",
       "\n",
       "    .dataframe thead th {\n",
       "        text-align: right;\n",
       "    }\n",
       "</style>\n",
       "<table border=\"1\" class=\"dataframe\">\n",
       "  <thead>\n",
       "    <tr style=\"text-align: right;\">\n",
       "      <th></th>\n",
       "      <th>author_id</th>\n",
       "      <th>content</th>\n",
       "    </tr>\n",
       "  </thead>\n",
       "  <tbody>\n",
       "    <tr>\n",
       "      <th>0</th>\n",
       "      <td>55286</td>\n",
       "      <td>Análisis automático del rendimiento de ejecuci...</td>\n",
       "    </tr>\n",
       "    <tr>\n",
       "      <th>1</th>\n",
       "      <td>59726</td>\n",
       "      <td>Simplicidade no desenvolvimento ágil de softwa...</td>\n",
       "    </tr>\n",
       "    <tr>\n",
       "      <th>2</th>\n",
       "      <td>63510</td>\n",
       "      <td>Adaptabilidad en familia de aplicaciones web. ...</td>\n",
       "    </tr>\n",
       "    <tr>\n",
       "      <th>3</th>\n",
       "      <td>54180</td>\n",
       "      <td>Uso de VRPN en la implementación de una BCI p...</td>\n",
       "    </tr>\n",
       "    <tr>\n",
       "      <th>4</th>\n",
       "      <td>58677</td>\n",
       "      <td>m-Experiencia de articulación universidad-escu...</td>\n",
       "    </tr>\n",
       "  </tbody>\n",
       "</table>\n",
       "</div>"
      ],
      "text/plain": [
       "   author_id                                            content\n",
       "0      55286  Análisis automático del rendimiento de ejecuci...\n",
       "1      59726  Simplicidade no desenvolvimento ágil de softwa...\n",
       "2      63510  Adaptabilidad en familia de aplicaciones web. ...\n",
       "3      54180  Uso de VRPN en la implementación de una BCI p...\n",
       "4      58677  m-Experiencia de articulación universidad-escu..."
      ]
     },
     "execution_count": 41,
     "metadata": {},
     "output_type": "execute_result"
    }
   ],
   "source": [
    "df_content.head()"
   ]
  },
  {
   "cell_type": "code",
   "execution_count": 42,
   "metadata": {},
   "outputs": [
    {
     "data": {
      "text/plain": [
       "3325"
      ]
     },
     "execution_count": 42,
     "metadata": {},
     "output_type": "execute_result"
    }
   ],
   "source": [
    "len(df_content)"
   ]
  },
  {
   "cell_type": "markdown",
   "metadata": {},
   "source": [
    "Now, we have a data set where each row contains the author id as well as their associated content of scientific productions (titles and abstracts)."
   ]
  },
  {
   "cell_type": "markdown",
   "metadata": {},
   "source": [
    "Since we will be training models for a single language. Next step is to determine what are the proportion of languages usage in their content. "
   ]
  },
  {
   "cell_type": "markdown",
   "metadata": {},
   "source": [
    "## Language usage"
   ]
  },
  {
   "cell_type": "markdown",
   "metadata": {},
   "source": [
    "ToDo"
   ]
  }
 ],
 "metadata": {
  "kernelspec": {
   "display_name": "pj_fit",
   "language": "python",
   "name": "pj_fit"
  },
  "language_info": {
   "codemirror_mode": {
    "name": "ipython",
    "version": 3
   },
   "file_extension": ".py",
   "mimetype": "text/x-python",
   "name": "python",
   "nbconvert_exporter": "python",
   "pygments_lexer": "ipython3",
   "version": "3.5.2"
  }
 },
 "nbformat": 4,
 "nbformat_minor": 2
}
