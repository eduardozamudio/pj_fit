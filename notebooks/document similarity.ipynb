{
 "cells": [
  {
   "cell_type": "markdown",
   "metadata": {},
   "source": [
    "# Topic similarity\n",
    "\n",
    "The aim of this notebook is to test a strategy to measure similarity between an **expert profile** and **project description**. \n",
    "\n",
    "Measuring similarity is suposed to be useful in determining how expert profiles fit for a given project description.\n",
    "\n",
    "The poposed alternatives to test similarity include:\n",
    "\n",
    "* LDA (topic modelling)\n",
    "* word2vec"
   ]
  },
  {
   "cell_type": "markdown",
   "metadata": {},
   "source": [
    "This notebook is organized as follows:\n",
    "\n",
    "* First, we load the data set\n",
    "* Second, we determine the languages of the author's articles to filter the majority language class.\n",
    "* Finally, we train a LDA model and implement a similarity function to evaluate a test case for finding authors with similar content to the content in the text case."
   ]
  },
  {
   "cell_type": "markdown",
   "metadata": {},
   "source": [
    "### Load the data"
   ]
  },
  {
   "cell_type": "code",
   "execution_count": 1,
   "metadata": {},
   "outputs": [],
   "source": [
    "import logging\n",
    "\n",
    "from os import listdir\n",
    "\n",
    "import pandas as pd\n",
    "\n",
    "import spacy\n",
    "\n",
    "from spacy_langdetect import LanguageDetector\n",
    "\n",
    "from time import process_time\n",
    "\n",
    "from multiprocessing import Pool\n",
    "\n",
    "%matplotlib inline"
   ]
  },
  {
   "cell_type": "code",
   "execution_count": 2,
   "metadata": {},
   "outputs": [],
   "source": [
    "logging.basicConfig(filename='../logs/console.log', \n",
    "                    level=logging.INFO,\n",
    "                    filemode='a', \n",
    "                    format='%(asctime)s - %(name)s - %(levelname)s - %(message)s')"
   ]
  },
  {
   "cell_type": "code",
   "execution_count": 3,
   "metadata": {},
   "outputs": [],
   "source": [
    "filenames = [x for x in listdir('../data/sedici') if 'node_articles_ciencias_informaticas' in x]"
   ]
  },
  {
   "cell_type": "code",
   "execution_count": 5,
   "metadata": {},
   "outputs": [],
   "source": [
    "df = pd.DataFrame()\n",
    "\n",
    "for filename in filenames:\n",
    "    df = pd.concat([df, pd.read_csv('../data/sedici/{0}'.format(filename))], ignore_index=True, sort=False)"
   ]
  },
  {
   "cell_type": "code",
   "execution_count": 6,
   "metadata": {},
   "outputs": [
    {
     "data": {
      "text/plain": [
       "(65334, 5)"
      ]
     },
     "execution_count": 6,
     "metadata": {},
     "output_type": "execute_result"
    }
   ],
   "source": [
    "df.shape"
   ]
  },
  {
   "cell_type": "code",
   "execution_count": 7,
   "metadata": {},
   "outputs": [
    {
     "data": {
      "text/html": [
       "<div>\n",
       "<style scoped>\n",
       "    .dataframe tbody tr th:only-of-type {\n",
       "        vertical-align: middle;\n",
       "    }\n",
       "\n",
       "    .dataframe tbody tr th {\n",
       "        vertical-align: top;\n",
       "    }\n",
       "\n",
       "    .dataframe thead th {\n",
       "        text-align: right;\n",
       "    }\n",
       "</style>\n",
       "<table border=\"1\" class=\"dataframe\">\n",
       "  <thead>\n",
       "    <tr style=\"text-align: right;\">\n",
       "      <th></th>\n",
       "      <th>author_id</th>\n",
       "      <th>article_id</th>\n",
       "      <th>title</th>\n",
       "      <th>abstract</th>\n",
       "      <th>language</th>\n",
       "    </tr>\n",
       "  </thead>\n",
       "  <tbody>\n",
       "    <tr>\n",
       "      <th>0</th>\n",
       "      <td>55286</td>\n",
       "      <td>24446</td>\n",
       "      <td>Análisis automático del rendimiento de ejecuci...</td>\n",
       "      <td>La programación paralela más tradicional oblig...</td>\n",
       "      <td>NaN</td>\n",
       "    </tr>\n",
       "    <tr>\n",
       "      <th>1</th>\n",
       "      <td>55286</td>\n",
       "      <td>9582</td>\n",
       "      <td>Development and tuning framework of master/wor...</td>\n",
       "      <td>Parallel/distributed programming is a complex ...</td>\n",
       "      <td>NaN</td>\n",
       "    </tr>\n",
       "    <tr>\n",
       "      <th>2</th>\n",
       "      <td>55286</td>\n",
       "      <td>20899</td>\n",
       "      <td>Método de Reducción de Incertidumbre basado en...</td>\n",
       "      <td>La problemática existente a raíz de la falta d...</td>\n",
       "      <td>NaN</td>\n",
       "    </tr>\n",
       "    <tr>\n",
       "      <th>3</th>\n",
       "      <td>55286</td>\n",
       "      <td>9524</td>\n",
       "      <td>Process tracking for dynamic tuning applicatio...</td>\n",
       "      <td>The computational resources need by the scient...</td>\n",
       "      <td>NaN</td>\n",
       "    </tr>\n",
       "    <tr>\n",
       "      <th>4</th>\n",
       "      <td>55286</td>\n",
       "      <td>23166</td>\n",
       "      <td>Mapas de riesgo de incendios forestales basado...</td>\n",
       "      <td>La valoración del riesgo en los incendios fore...</td>\n",
       "      <td>NaN</td>\n",
       "    </tr>\n",
       "  </tbody>\n",
       "</table>\n",
       "</div>"
      ],
      "text/plain": [
       "   author_id  article_id                                              title  \\\n",
       "0      55286       24446  Análisis automático del rendimiento de ejecuci...   \n",
       "1      55286        9582  Development and tuning framework of master/wor...   \n",
       "2      55286       20899  Método de Reducción de Incertidumbre basado en...   \n",
       "3      55286        9524  Process tracking for dynamic tuning applicatio...   \n",
       "4      55286       23166  Mapas de riesgo de incendios forestales basado...   \n",
       "\n",
       "                                            abstract language  \n",
       "0  La programación paralela más tradicional oblig...      NaN  \n",
       "1  Parallel/distributed programming is a complex ...      NaN  \n",
       "2  La problemática existente a raíz de la falta d...      NaN  \n",
       "3  The computational resources need by the scient...      NaN  \n",
       "4  La valoración del riesgo en los incendios fore...      NaN  "
      ]
     },
     "execution_count": 7,
     "metadata": {},
     "output_type": "execute_result"
    }
   ],
   "source": [
    "df.head()"
   ]
  },
  {
   "cell_type": "markdown",
   "metadata": {},
   "source": [
    "Since we will be training models for a single language. Next step is to determine what are the proportion of languages usage in their content. "
   ]
  },
  {
   "cell_type": "markdown",
   "metadata": {},
   "source": [
    "## Language usage"
   ]
  },
  {
   "cell_type": "code",
   "execution_count": 9,
   "metadata": {},
   "outputs": [],
   "source": [
    "nlp = spacy.load(\"es_core_news_sm\")"
   ]
  },
  {
   "cell_type": "code",
   "execution_count": 10,
   "metadata": {},
   "outputs": [],
   "source": [
    "nlp.add_pipe(LanguageDetector(), name=\"language_detector\", last=True)\n"
   ]
  },
  {
   "cell_type": "markdown",
   "metadata": {},
   "source": [
    "Now, let's get the language by analysing the abstract of each article"
   ]
  },
  {
   "cell_type": "code",
   "execution_count": 12,
   "metadata": {},
   "outputs": [],
   "source": [
    "logger = logging.getLogger('Language processing')\n",
    "\n",
    "def get_languages(tuples):\n",
    "    '''\n",
    "    Get languages for every row in tuples\n",
    "    \n",
    "    -----\n",
    "    param \n",
    "    tuples tuple with (index, row) from pandas.iterrows()\n",
    "    '''\n",
    "    \n",
    "    idx, row = tuples\n",
    "    \n",
    "    languages = []\n",
    "    \n",
    "    #if index in scale:\n",
    "    #    logger.info('Determining languages from article number {0}'.format(index))\n",
    "    #index = index + 1\n",
    "        \n",
    "    tic = process_time()\n",
    "    \n",
    "    doc = nlp(str(row['abstract']))\n",
    "    languages.append(doc._.language['language'])\n",
    "    \n",
    "    toc = process_time()\n",
    "    \n",
    "    logger.info(\"determininig language for article {0} took {1}ms.\".format(idx, toc-tic))\n",
    "    \n",
    "    return languages"
   ]
  },
  {
   "cell_type": "code",
   "execution_count": 13,
   "metadata": {},
   "outputs": [],
   "source": [
    "article_lang = []\n",
    "\n",
    "with Pool(4) as p:\n",
    "    article_lang = p.map(get_languages, df.iterrows())"
   ]
  },
  {
   "cell_type": "code",
   "execution_count": 14,
   "metadata": {},
   "outputs": [
    {
     "data": {
      "text/plain": [
       "65334"
      ]
     },
     "execution_count": 14,
     "metadata": {},
     "output_type": "execute_result"
    }
   ],
   "source": [
    "len(article_lang)"
   ]
  },
  {
   "cell_type": "code",
   "execution_count": 15,
   "metadata": {},
   "outputs": [],
   "source": [
    "df['language'] = [''.join(x) for x in article_lang]"
   ]
  },
  {
   "cell_type": "code",
   "execution_count": null,
   "metadata": {},
   "outputs": [],
   "source": [
    "df.to_csv('../data/sedici/node_articles_ciencias_informaticas_with_language.csv', index=False)"
   ]
  },
  {
   "cell_type": "markdown",
   "metadata": {},
   "source": [
    "### Load data from CSV"
   ]
  },
  {
   "cell_type": "code",
   "execution_count": 16,
   "metadata": {},
   "outputs": [],
   "source": [
    "df = pd.read_csv('../data/sedici/node_articles_ciencias_informaticas_with_language.csv')"
   ]
  },
  {
   "cell_type": "code",
   "execution_count": 17,
   "metadata": {},
   "outputs": [
    {
     "data": {
      "text/plain": [
       "es    27812\n",
       "en     4325\n",
       "pt      168\n",
       "tl       99\n",
       "it        8\n",
       "ca        6\n",
       "af        4\n",
       "de        2\n",
       "so        1\n",
       "Name: language, dtype: int64"
      ]
     },
     "execution_count": 17,
     "metadata": {},
     "output_type": "execute_result"
    }
   ],
   "source": [
    "df['language'].value_counts()"
   ]
  },
  {
   "cell_type": "code",
   "execution_count": 18,
   "metadata": {},
   "outputs": [
    {
     "data": {
      "text/plain": [
       "<matplotlib.axes._subplots.AxesSubplot at 0x7fc79b56db70>"
      ]
     },
     "execution_count": 18,
     "metadata": {},
     "output_type": "execute_result"
    },
    {
     "data": {
      "image/png": "[encoded data removed]",
      "text/plain": [
       "<Figure size 432x288 with 1 Axes>"
      ]
     },
     "metadata": {
      "needs_background": "light"
     },
     "output_type": "display_data"
    }
   ],
   "source": [
    "df['language'].value_counts().plot(kind='bar')"
   ]
  },
  {
   "cell_type": "markdown",
   "metadata": {},
   "source": [
    "We will be working with spanish documents, since 'es' is the majority language class."
   ]
  },
  {
   "cell_type": "code",
   "execution_count": 19,
   "metadata": {},
   "outputs": [
    {
     "data": {
      "text/plain": [
       "(27812, 5)"
      ]
     },
     "execution_count": 19,
     "metadata": {},
     "output_type": "execute_result"
    }
   ],
   "source": [
    "df[df['language'] == 'es'].shape"
   ]
  },
  {
   "cell_type": "code",
   "execution_count": 20,
   "metadata": {},
   "outputs": [],
   "source": [
    "data = df[df['language'] == 'es']\n",
    "data = data[['author_id', 'article_id', 'title', 'abstract']]"
   ]
  },
  {
   "cell_type": "code",
   "execution_count": 21,
   "metadata": {},
   "outputs": [
    {
     "data": {
      "text/html": [
       "<div>\n",
       "<style scoped>\n",
       "    .dataframe tbody tr th:only-of-type {\n",
       "        vertical-align: middle;\n",
       "    }\n",
       "\n",
       "    .dataframe tbody tr th {\n",
       "        vertical-align: top;\n",
       "    }\n",
       "\n",
       "    .dataframe thead th {\n",
       "        text-align: right;\n",
       "    }\n",
       "</style>\n",
       "<table border=\"1\" class=\"dataframe\">\n",
       "  <thead>\n",
       "    <tr style=\"text-align: right;\">\n",
       "      <th></th>\n",
       "      <th>author_id</th>\n",
       "      <th>article_id</th>\n",
       "      <th>title</th>\n",
       "      <th>abstract</th>\n",
       "    </tr>\n",
       "  </thead>\n",
       "  <tbody>\n",
       "    <tr>\n",
       "      <th>0</th>\n",
       "      <td>55286</td>\n",
       "      <td>24446</td>\n",
       "      <td>Análisis automático del rendimiento de ejecuci...</td>\n",
       "      <td>La programación paralela más tradicional oblig...</td>\n",
       "    </tr>\n",
       "    <tr>\n",
       "      <th>2</th>\n",
       "      <td>55286</td>\n",
       "      <td>20899</td>\n",
       "      <td>Método de Reducción de Incertidumbre basado en...</td>\n",
       "      <td>La problemática existente a raíz de la falta d...</td>\n",
       "    </tr>\n",
       "    <tr>\n",
       "      <th>4</th>\n",
       "      <td>55286</td>\n",
       "      <td>23166</td>\n",
       "      <td>Mapas de riesgo de incendios forestales basado...</td>\n",
       "      <td>La valoración del riesgo en los incendios fore...</td>\n",
       "    </tr>\n",
       "    <tr>\n",
       "      <th>5</th>\n",
       "      <td>55286</td>\n",
       "      <td>23181</td>\n",
       "      <td>Algoritmos genéticos guiados para predicción d...</td>\n",
       "      <td>En este trabajo se propone una metodología par...</td>\n",
       "    </tr>\n",
       "    <tr>\n",
       "      <th>8</th>\n",
       "      <td>55286</td>\n",
       "      <td>21622</td>\n",
       "      <td>Modelización y evaluación de performance en pa...</td>\n",
       "      <td>Se exponen las ideas principales de una línea ...</td>\n",
       "    </tr>\n",
       "  </tbody>\n",
       "</table>\n",
       "</div>"
      ],
      "text/plain": [
       "   author_id  article_id                                              title  \\\n",
       "0      55286       24446  Análisis automático del rendimiento de ejecuci...   \n",
       "2      55286       20899  Método de Reducción de Incertidumbre basado en...   \n",
       "4      55286       23166  Mapas de riesgo de incendios forestales basado...   \n",
       "5      55286       23181  Algoritmos genéticos guiados para predicción d...   \n",
       "8      55286       21622  Modelización y evaluación de performance en pa...   \n",
       "\n",
       "                                            abstract  \n",
       "0  La programación paralela más tradicional oblig...  \n",
       "2  La problemática existente a raíz de la falta d...  \n",
       "4  La valoración del riesgo en los incendios fore...  \n",
       "5  En este trabajo se propone una metodología par...  \n",
       "8  Se exponen las ideas principales de una línea ...  "
      ]
     },
     "execution_count": 21,
     "metadata": {},
     "output_type": "execute_result"
    }
   ],
   "source": [
    "data.head()"
   ]
  },
  {
   "cell_type": "markdown",
   "metadata": {},
   "source": [
    "Let's get a single field 'content' by appending titles and abstracts, for each author."
   ]
  },
  {
   "cell_type": "code",
   "execution_count": 22,
   "metadata": {},
   "outputs": [],
   "source": [
    "concat_results = []\n",
    "\n",
    "author_ids = data['author_id'].unique()\n",
    "\n",
    "for author_id in author_ids:\n",
    "    \n",
    "    content = ''\n",
    "    \n",
    "    for idx, row in data[data['author_id'] == author_id].iterrows():\n",
    "        content = content + '. '.join([str(row['title']), str(row['abstract'])]) + '\\n' \n",
    "        \n",
    "    concat_results.append((author_id, content))\n",
    "    \n",
    "df_content = pd.DataFrame(concat_results, columns=['author_id', 'content'])    "
   ]
  },
  {
   "cell_type": "code",
   "execution_count": 23,
   "metadata": {},
   "outputs": [
    {
     "data": {
      "text/html": [
       "<div>\n",
       "<style scoped>\n",
       "    .dataframe tbody tr th:only-of-type {\n",
       "        vertical-align: middle;\n",
       "    }\n",
       "\n",
       "    .dataframe tbody tr th {\n",
       "        vertical-align: top;\n",
       "    }\n",
       "\n",
       "    .dataframe thead th {\n",
       "        text-align: right;\n",
       "    }\n",
       "</style>\n",
       "<table border=\"1\" class=\"dataframe\">\n",
       "  <thead>\n",
       "    <tr style=\"text-align: right;\">\n",
       "      <th></th>\n",
       "      <th>author_id</th>\n",
       "      <th>content</th>\n",
       "    </tr>\n",
       "  </thead>\n",
       "  <tbody>\n",
       "    <tr>\n",
       "      <th>0</th>\n",
       "      <td>55286</td>\n",
       "      <td>Análisis automático del rendimiento de ejecuci...</td>\n",
       "    </tr>\n",
       "    <tr>\n",
       "      <th>1</th>\n",
       "      <td>63510</td>\n",
       "      <td>Adaptabilidad en familia de aplicaciones web. ...</td>\n",
       "    </tr>\n",
       "    <tr>\n",
       "      <th>2</th>\n",
       "      <td>54180</td>\n",
       "      <td>Uso de VRPN en la implementación de una BCI p...</td>\n",
       "    </tr>\n",
       "    <tr>\n",
       "      <th>3</th>\n",
       "      <td>58677</td>\n",
       "      <td>m-Experiencia de articulación universidad-escu...</td>\n",
       "    </tr>\n",
       "    <tr>\n",
       "      <th>4</th>\n",
       "      <td>64654</td>\n",
       "      <td>Determinación del espesor de aleaciones metáli...</td>\n",
       "    </tr>\n",
       "  </tbody>\n",
       "</table>\n",
       "</div>"
      ],
      "text/plain": [
       "   author_id                                            content\n",
       "0      55286  Análisis automático del rendimiento de ejecuci...\n",
       "1      63510  Adaptabilidad en familia de aplicaciones web. ...\n",
       "2      54180  Uso de VRPN en la implementación de una BCI p...\n",
       "3      58677  m-Experiencia de articulación universidad-escu...\n",
       "4      64654  Determinación del espesor de aleaciones metáli..."
      ]
     },
     "execution_count": 23,
     "metadata": {},
     "output_type": "execute_result"
    }
   ],
   "source": [
    "df_content.head()"
   ]
  },
  {
   "cell_type": "code",
   "execution_count": 24,
   "metadata": {},
   "outputs": [
    {
     "data": {
      "text/plain": [
       "3225"
      ]
     },
     "execution_count": 24,
     "metadata": {},
     "output_type": "execute_result"
    }
   ],
   "source": [
    "len(df_content)"
   ]
  },
  {
   "cell_type": "code",
   "execution_count": 25,
   "metadata": {
    "scrolled": true
   },
   "outputs": [
    {
     "name": "stdout",
     "output_type": "stream",
     "text": [
      "Análisis automático del rendimiento de ejecución de programas paralelos. La programación paralela más tradicional obliga al programador, después de haber diseñado la aplicación, a analizar el rendimiento de la aplicación que se acaba de diseñar. El programador debe analizar una enorme cantidad de información obtenida de la ejecución de un programa. En este artículo, se propone una herramienta de análisis automático que permite a los programadores evitar esa tarea difícil. La herramienta se centra en la búsqueda de intervalos de ineficiencia a lo largo del tiempo de ejecución de la aplicación. Los problemas de rendimiento son analizados en detalle, en busca de posibles causas de la ineficiencia y sus soluciones.\n",
      "Método de Reducción de Incertidumbre basado en HPC. La problemática existente a raíz de la falta de exactitud que se encuentra en los parámetros de entrada en cualquier modelo científi co o físico, puede producir graves consecuencias en la salida del mismo si éste se trata de algún sistema crítico. Además, al citado problema deben sumarse las limitaciones impuestas por los propios modelos, las restricciones que agregan las soluciones numéricas y, por qué no, las provenientes de las propias implementaciones y versiones informáticas. Por tal motivo, resulta de gran interés el desarrollo de métodos informáticos que se enfoquen en el tratamiento de la incertidumbre de dichos valores de entrada para lograr así una predicción lo más confi able posible por parte del modelo en cuestión. En el presente trabajo se presenta un método basado en High Performance Computing en combinación con Cálculo Estadístico, el cual se ha evaluado y veri cado en casos reales aplicándolo a un modelo de comportamiento de incendios forestales.\n",
      "Mapas de riesgo de incendios forestales basados en experimentación factorial. La valoración del riesgo en los incendios forestales es un tema realmente signi cativo para la elaboración de políticas que permitan prevenir y mitigar los efectos de los incendios de una manera e ciente. Esta valoración usualmente se basa en la probabilidad de ignición debida a factores metereológicos o humanos, pero no suele considerar el riesgo de propagación cuando el fuego ya ha comenzado. Para evaluar el riesgo de propagación es necesario aplicar algún modelo de comportamiento para simular el frente de fuego. Sin embargo, este riesgo de propagación debe ser evaluado considerando múltiples escenarios. Por lo tanto, la cantidad de simulaciones que debe llevarse a cabo es enorme y resulta necesario aplicar técnicas de cómputo de altas prestaciones para que la metodología sea factible. En este artículo se describe un método para crear mapas de riesgo de propagación basados en experimentación factorial. La metodología fue aplicada en escala de la Europa meridional durante la temporada de verano de 2004.\n",
      "Algoritmos genéticos guiados para predicción de incendios forestales. En este trabajo se propone una metodología para mejorar las predicciones de incendios forestales. Utilizando un simulador ya desarrollado, se utiliza un algoritmo genético para realizar una búsqueda efectiva de parámetros de entrada tal que estos parámetros logren una buena predicción. A esto se le agrega el uso de conocimiento disponible para guiar las operaciones del algoritmo genético y reducir el gran espacio de búsqueda donde opera dicho algoritmo. Se proponen 2 métodos para guiar dicho algoritmo, el método computacional y el método analítico, este último además intenta verificar los resultados del método computacional. Dichos métodos se comparan mediante un estudio experimental mostrando los resultados la ganancia que supone a˜nadir guía a la búsqueda frente a no añadirla.\n",
      "Modelización y evaluación de performance en patrones de Procesamiento Paralelo. Se exponen las ideas principales de una línea de investigación conjunta en el área de Procesamiento Paralelo, que realizan la Universidad Autónoma de Barcelona (UAB) y la Universidad Nacional de La Plata. En este proyecto se estudia la especificación de patrones para la expresión de algoritmos paralelos en diferentes esquemas de procesamiento, la investigación sobre el modelo de prestaciones asociado con cada patrón y se realiza desarrollo experimental de algoritmos paralelos para tratamiento masivo de datos, comparando las prestaciones a partir de la codificación “directa” de los algoritmos con su expresión a través de los patrones modelizados.\n",
      "Entorno de desarrollo y sintonización de aplicaciones master/worker. La programación paralelo/distribuida es una tarea compleja que requiere un alto grado de experiencia para poder cubrir las expectativas de alto rendimiento comp utacional. El paradigma Master/Worker es uno de los paradigmas más comúnmente utilizados dado que es simple de entender y se adapta a un amplio rango de aplicaciones. Sin embargo, para obtener un rendimiento adecuado es menester sintonizar ciertos parámetros tales como la distribución de datos y el número de workers. En muchos casos, estos parámetros no pueden sintonizarse estáticamente dado que dependen de las condiciones particulares de cada ejecución. En este artículo, presentamos un entorno de sintonización dinámica que permite la adaptación de las aplicaciones a las condiciones dinámicas de ejecución, basado en un modelo teórico de comportamiento de aplicaciones Master/Worker. El entorno incluye un framework de desarrollo de aplicaciones Master/Worker, que permite al usuario concentrarse en el diseño de la aplicación, y una herramienta de monitorización/sintonización dinámica capaz de superar los cuellos de botella asociados a este tipo de aplicaciones.\n",
      "Process tracking for dynamic tuning applications on the grid. Los recursos computacionales requeridos por la comunidad científica para solucionar problemas son mayores que los ofrecidos por la infraestructura actual. La necesidad de mayores prestaciones se debe al constante progreso de la investigación, nuevos problemas o aumento del detalle en los problemas corrientes. Usuarios crean nuevos sistemas distribuidos en larga escala como sistemas Grid para lograr prestaciones deseadas. Sistemas Grid son generalmente construidos sobre los recursos computacionales disponibles como clusters, maquinas paralelas o dispositivos de almacenamiento distribuidos en diferentes organizaciones e interconectado por una red. Sintonizar aplicaciones en un sistema Grid no es fácil debido a las características de distribución de procesos en múltiples clusters controlados por diferentes sistemas de colas y heterogeneidad de la red de comunicaciones. Nosotros tenemos un entorno de monitorización, análisis y sintonización (MATE) que permite la sintonización dinámica de aplicaciones en entornos cluster. Debido a las muchas capas de software presente en sistemas Grid, dos ejecuciones de una misma aplicación pueden usar recursos distintos. Para sintonizar los procesos de la aplicación, nuestra herramienta debe localizar y seguir la ejecución de los procesos en el sistema. Nosotros llamamos eso como problema de localización de procesos. Este artículo presenta la integración de MATE con Gris y dos aproximaciones implementadas para solucionar el problema de localización de procesos dentro de sistemas Grid.\n",
      "\n"
     ]
    }
   ],
   "source": [
    "print(df_content.iloc[0]['content'])"
   ]
  },
  {
   "cell_type": "markdown",
   "metadata": {},
   "source": [
    "Now, we have a data set where each row contains the author id as well as their associated content of scientific productions (titles and abstracts)."
   ]
  },
  {
   "cell_type": "markdown",
   "metadata": {},
   "source": [
    "## LDA"
   ]
  },
  {
   "cell_type": "code",
   "execution_count": 26,
   "metadata": {
    "scrolled": true
   },
   "outputs": [],
   "source": [
    "# import dependencies\n",
    "%matplotlib inline\n",
    "import pandas as pd\n",
    "import numpy as np\n",
    "import nltk\n",
    "from nltk.corpus import stopwords\n",
    "import gensim\n",
    "from gensim.models import LdaModel\n",
    "from gensim import models, corpora, similarities\n",
    "import re\n",
    "from nltk.stem.porter import PorterStemmer\n",
    "import time\n",
    "from nltk import FreqDist\n",
    "from scipy.stats import entropy\n",
    "import matplotlib.pyplot as plt"
   ]
  },
  {
   "cell_type": "markdown",
   "metadata": {},
   "source": [
    "Our first approach involves applying LDA to build expert profiles using topic models.\n",
    "\n",
    "Here, **expert profiles** are defined as a set topic models, and this models are trained using documents asociated to every expert. For instance, in academics this documents could be research papers where the expert is an author.\n",
    "\n",
    "**Project descriptions** are defined as the contributions to the topic models of the expert profiles.\n",
    "\n",
    "The similarity between the project descriptions and the expert profiles can be measured using the Jensen-Shannon Distance (see [ref](https://www.kaggle.com/ktattan/lda-and-document-similarity#Similarity-Queries-and-Unseen-Data))"
   ]
  },
  {
   "cell_type": "markdown",
   "metadata": {},
   "source": [
    "LDA should work better with large datasets, however **content** have only titles and abstracts.\n",
    "\n",
    "Let's get an idea of what is the length of the content column."
   ]
  },
  {
   "cell_type": "code",
   "execution_count": 27,
   "metadata": {},
   "outputs": [],
   "source": [
    "content_size = []\n",
    "with Pool(4) as p:\n",
    "    content_size = p.map(len, df_content['content'])"
   ]
  },
  {
   "cell_type": "code",
   "execution_count": 28,
   "metadata": {},
   "outputs": [],
   "source": [
    "df_content['length'] = content_size"
   ]
  },
  {
   "cell_type": "code",
   "execution_count": 29,
   "metadata": {},
   "outputs": [
    {
     "data": {
      "text/plain": [
       "<matplotlib.axes._subplots.AxesSubplot at 0x7fc799359518>"
      ]
     },
     "execution_count": 29,
     "metadata": {},
     "output_type": "execute_result"
    },
    {
     "data": {
      "image/png": "[encoded data removed]",
      "text/plain": [
       "<Figure size 432x288 with 1 Axes>"
      ]
     },
     "metadata": {
      "needs_background": "light"
     },
     "output_type": "display_data"
    }
   ],
   "source": [
    "df_content['length'].plot(kind='hist')"
   ]
  },
  {
   "cell_type": "code",
   "execution_count": 30,
   "metadata": {},
   "outputs": [
    {
     "data": {
      "text/plain": [
       "author_id     int64\n",
       "content      object\n",
       "length        int64\n",
       "dtype: object"
      ]
     },
     "execution_count": 30,
     "metadata": {},
     "output_type": "execute_result"
    }
   ],
   "source": [
    "df_content.dtypes"
   ]
  },
  {
   "cell_type": "code",
   "execution_count": 31,
   "metadata": {},
   "outputs": [
    {
     "data": {
      "text/plain": [
       "count      3225.000000\n",
       "mean       9357.815194\n",
       "std       18409.464828\n",
       "min         123.000000\n",
       "25%        2320.000000\n",
       "50%        4440.000000\n",
       "75%        9067.000000\n",
       "max      434430.000000\n",
       "Name: length, dtype: float64"
      ]
     },
     "execution_count": 31,
     "metadata": {},
     "output_type": "execute_result"
    }
   ],
   "source": [
    "df_content['length'].describe()"
   ]
  },
  {
   "cell_type": "markdown",
   "metadata": {},
   "source": [
    "The strategy is to train topic models based on the **whole content** of data set."
   ]
  },
  {
   "cell_type": "markdown",
   "metadata": {},
   "source": [
    "### Start LDA processing"
   ]
  },
  {
   "cell_type": "code",
   "execution_count": 32,
   "metadata": {},
   "outputs": [],
   "source": [
    "# Cleaning processes from https://www.kaggle.com/ktattan/lda-and-document-similarity#Similarity-Queries-and-Unseen-Data\n",
    "\n",
    "def initial_clean(text):\n",
    "    \"\"\"\n",
    "    Function to clean text of websites, email addresess and any punctuation\n",
    "    We also lower case the text\n",
    "    \"\"\"\n",
    "    text = re.sub(\"((\\S+)?(http(s)?)(\\S+))|((\\S+)?(www)(\\S+))|((\\S+)?(\\@)(\\S+)?)\", \" \", text)\n",
    "    text = re.sub(\"[^a-zA-ZñÑáéíóúÁÉÍÓÚü ]\", \"\", text)\n",
    "    text = text.lower() # lower case the text\n",
    "    text = nltk.word_tokenize(text)\n",
    "    return text\n",
    "\n",
    "stop_words = stopwords.words('spanish')\n",
    "def remove_stop_words(text):\n",
    "    \"\"\"\n",
    "    Function that removes all stopwords from text\n",
    "    \"\"\"\n",
    "    return [word for word in text if word not in stop_words]\n",
    "\n",
    "stemmer = PorterStemmer()\n",
    "def stem_words(text):\n",
    "    \"\"\"\n",
    "    Function to stem words, so plural and singular are treated the same\n",
    "    \"\"\"\n",
    "    try:\n",
    "        text = [stemmer.stem(word) for word in text]\n",
    "        text = [word for word in text if len(word) > 1] # make sure we have no 1 letter words\n",
    "    except IndexError: # the word \"oed\" broke this, so needed try except\n",
    "        pass\n",
    "    return text\n",
    "\n",
    "def apply_all(text):\n",
    "    \"\"\"\n",
    "    This function applies all the functions above into one\n",
    "    \"\"\"\n",
    "    return stem_words(remove_stop_words(initial_clean(text)))"
   ]
  },
  {
   "cell_type": "markdown",
   "metadata": {},
   "source": [
    "### Get word frequency"
   ]
  },
  {
   "cell_type": "code",
   "execution_count": 33,
   "metadata": {},
   "outputs": [],
   "source": [
    "df_content['tokenized'] = df_content['content'].apply(apply_all)"
   ]
  },
  {
   "cell_type": "code",
   "execution_count": 34,
   "metadata": {},
   "outputs": [
    {
     "data": {
      "text/plain": [
       "63183"
      ]
     },
     "execution_count": 34,
     "metadata": {},
     "output_type": "execute_result"
    }
   ],
   "source": [
    "# first get a list of all words\n",
    "all_words = [word for item in list(df_content['tokenized']) for word in item]\n",
    "# use nltk fdist to get a frequency distribution of all words\n",
    "fdist = FreqDist(all_words)\n",
    "len(fdist) # number of unique words"
   ]
  },
  {
   "cell_type": "code",
   "execution_count": 35,
   "metadata": {},
   "outputs": [
    {
     "data": {
      "text/plain": [
       "['análisi',\n",
       " 'automático',\n",
       " 'rendimiento',\n",
       " 'ejecución',\n",
       " 'programa',\n",
       " 'paralelo',\n",
       " 'programación',\n",
       " 'paralela',\n",
       " 'tradicion',\n",
       " 'obliga']"
      ]
     },
     "execution_count": 35,
     "metadata": {},
     "output_type": "execute_result"
    }
   ],
   "source": [
    "all_words[:10]"
   ]
  },
  {
   "cell_type": "code",
   "execution_count": 36,
   "metadata": {},
   "outputs": [
    {
     "data": {
      "text/plain": [
       "[('cubana', 7),\n",
       " ('programático', 7),\n",
       " ('eliminado', 7),\n",
       " ('mastozoología', 7),\n",
       " ('period', 7),\n",
       " ('refracción', 7),\n",
       " ('eslabon', 7),\n",
       " ('competenciasla', 7),\n",
       " ('expandirs', 7),\n",
       " ('natación', 7)]"
      ]
     },
     "execution_count": 36,
     "metadata": {},
     "output_type": "execute_result"
    }
   ],
   "source": [
    "# choose k and visually inspect the bottom 10 words of the top k\n",
    "k = 15000\n",
    "top_k_words = fdist.most_common(k)\n",
    "top_k_words[-10:]"
   ]
  },
  {
   "cell_type": "code",
   "execution_count": 37,
   "metadata": {},
   "outputs": [],
   "source": [
    "# define a function only to keep words in the top k words\n",
    "top_k_words,_ = zip(*fdist.most_common(k))\n",
    "top_k_words = set(top_k_words)\n",
    "def keep_top_k_words(text):\n",
    "    return [word for word in text if word in top_k_words]"
   ]
  },
  {
   "cell_type": "code",
   "execution_count": 38,
   "metadata": {},
   "outputs": [],
   "source": [
    "df_content['tokenized'] = df_content['tokenized'].apply(keep_top_k_words)"
   ]
  },
  {
   "cell_type": "markdown",
   "metadata": {},
   "source": [
    "Train LDA"
   ]
  },
  {
   "cell_type": "code",
   "execution_count": 39,
   "metadata": {},
   "outputs": [],
   "source": [
    "def train_lda(data):\n",
    "    \"\"\"\n",
    "    This function trains the lda model\n",
    "    We setup parameters like number of topics, the chunksize to use in Hoffman method\n",
    "    We also do 2 passes of the data since this is a small dataset, so we want the distributions to stabilize\n",
    "    \"\"\"\n",
    "    num_topics = 100\n",
    "    chunksize = 300\n",
    "    dictionary = corpora.Dictionary(data['tokenized'])\n",
    "    corpus = [dictionary.doc2bow(doc) for doc in data['tokenized']]\n",
    "    t1 = time.time()\n",
    "    # low alpha means each document is only represented by a small number of topics, and vice versa\n",
    "    # low eta means each topic is only represented by a small number of words, and vice versa\n",
    "    lda = LdaModel(corpus=corpus, num_topics=num_topics, id2word=dictionary,\n",
    "                   alpha=1e-2, eta=0.5e-2, chunksize=chunksize, minimum_probability=0.0, passes=2)\n",
    "    t2 = time.time()\n",
    "    print(\"Time to train LDA model on \", len(df), \"articles: \", (t2-t1)/60, \"min\")\n",
    "    return dictionary,corpus,lda"
   ]
  },
  {
   "cell_type": "code",
   "execution_count": 40,
   "metadata": {},
   "outputs": [
    {
     "name": "stdout",
     "output_type": "stream",
     "text": [
      "Time to train LDA model on  32425 articles:  1.301446008682251 min\n"
     ]
    }
   ],
   "source": [
    "dictionary,corpus,lda = train_lda(df_content)"
   ]
  },
  {
   "cell_type": "code",
   "execution_count": 41,
   "metadata": {},
   "outputs": [
    {
     "data": {
      "text/plain": [
       "[(64,\n",
       "  '0.051*\"investigación\" + 0.031*\"web\" + 0.028*\"proyecto\" + 0.028*\"universidad\" + 0.023*\"inteligencia\" + 0.021*\"nacion\" + 0.018*\"desarrollo\" + 0.018*\"línea\" + 0.018*\"ambient\" + 0.016*\"inteligent\" + 0.016*\"agent\" + 0.015*\"artifici\" + 0.015*\"trabajo\" + 0.015*\"objetivo\" + 0.012*\"patagonia\" + 0.012*\"computación\" + 0.011*\"planificación\" + 0.010*\"gener\" + 0.010*\"incentivar\" + 0.010*\"marco\"'),\n",
       " (36,\n",
       "  '0.023*\"tráfico\" + 0.020*\"cloud\" + 0.019*\"rede\" + 0.015*\"seguridad\" + 0.013*\"servicio\" + 0.012*\"comput\" + 0.011*\"internet\" + 0.011*\"red\" + 0.008*\"modelo\" + 0.008*\"nuevo\" + 0.008*\"infraestructura\" + 0.008*\"dato\" + 0.007*\"recurso\" + 0.007*\"análisi\" + 0.007*\"tecnología\" + 0.006*\"trabajo\" + 0.006*\"aplicacion\" + 0.006*\"distribución\" + 0.006*\"wireless\" + 0.006*\"gran\"'),\n",
       " (11,\n",
       "  '0.054*\"reconocimiento\" + 0.019*\"patron\" + 0.018*\"sistema\" + 0.017*\"video\" + 0.016*\"visión\" + 0.016*\"segmentación\" + 0.013*\"objeto\" + 0.013*\"método\" + 0.011*\"descriptor\" + 0.009*\"resultado\" + 0.009*\"cámara\" + 0.009*\"trabajo\" + 0.009*\"clasificación\" + 0.008*\"imágen\" + 0.008*\"escena\" + 0.008*\"tema\" + 0.008*\"partir\" + 0.007*\"mano\" + 0.007*\"entrenamiento\" + 0.007*\"real\"'),\n",
       " (94,\n",
       "  '0.013*\"informática\" + 0.011*\"trabajo\" + 0.010*\"metodología\" + 0.010*\"desarrollo\" + 0.010*\"resultado\" + 0.009*\"investigación\" + 0.009*\"entorno\" + 0.008*\"enseñanza\" + 0.008*\"softwar\" + 0.008*\"digit\" + 0.008*\"particular\" + 0.008*\"evaluación\" + 0.008*\"educativo\" + 0.007*\"tecnología\" + 0.007*\"aprendizaj\" + 0.006*\"proyecto\" + 0.006*\"presenta\" + 0.006*\"diferent\" + 0.006*\"objetivo\" + 0.006*\"línea\"'),\n",
       " (48,\n",
       "  '0.000*\"sistema\" + 0.000*\"trabajo\" + 0.000*\"desarrollo\" + 0.000*\"investigación\" + 0.000*\"herramienta\" + 0.000*\"información\" + 0.000*\"proceso\" + 0.000*\"problema\" + 0.000*\"modelo\" + 0.000*\"softwar\" + 0.000*\"objetivo\" + 0.000*\"basado\" + 0.000*\"proyecto\" + 0.000*\"dato\" + 0.000*\"presenta\" + 0.000*\"tecnología\" + 0.000*\"aplicación\" + 0.000*\"aplicacion\" + 0.000*\"web\" + 0.000*\"aprendizaj\"'),\n",
       " (23,\n",
       "  '0.016*\"sistema\" + 0.014*\"comprensión\" + 0.013*\"herramienta\" + 0.013*\"proceso\" + 0.011*\"programa\" + 0.009*\"información\" + 0.008*\"objetivo\" + 0.008*\"informática\" + 0.007*\"estrategia\" + 0.007*\"desarrollo\" + 0.007*\"proyecto\" + 0.007*\"análisi\" + 0.006*\"alumno\" + 0.006*\"trabajo\" + 0.005*\"softwar\" + 0.005*\"año\" + 0.005*\"artículo\" + 0.005*\"estudio\" + 0.005*\"conceptual\" + 0.004*\"uso\"'),\n",
       " (82,\n",
       "  '0.038*\"foro\" + 0.032*\"problema\" + 0.027*\"discusión\" + 0.020*\"técnico\" + 0.020*\"información\" + 0.018*\"pregunta\" + 0.016*\"web\" + 0.014*\"usuario\" + 0.014*\"solucion\" + 0.013*\"herramienta\" + 0.013*\"página\" + 0.011*\"búsqueda\" + 0.010*\"conocimiento\" + 0.009*\"ser\" + 0.009*\"hilo\" + 0.009*\"priorización\" + 0.009*\"particular\" + 0.009*\"respuesta\" + 0.009*\"dispon\" + 0.009*\"proyecto\"'),\n",
       " (47,\n",
       "  '0.041*\"arquitectura\" + 0.026*\"paralelo\" + 0.023*\"algoritmo\" + 0.019*\"aplicacion\" + 0.018*\"multicor\" + 0.017*\"cluster\" + 0.015*\"distribuido\" + 0.015*\"sistema\" + 0.014*\"paralela\" + 0.013*\"softwar\" + 0.013*\"cloud\" + 0.012*\"gpu\" + 0.011*\"procesador\" + 0.011*\"cómputo\" + 0.011*\"línea\" + 0.011*\"evaluación\" + 0.010*\"diferent\" + 0.010*\"tema\" + 0.010*\"tiempo\" + 0.010*\"desarrollo\"'),\n",
       " (60,\n",
       "  '0.044*\"dato\" + 0.024*\"sistema\" + 0.012*\"base\" + 0.010*\"trabajo\" + 0.010*\"aplicacion\" + 0.009*\"desarrollo\" + 0.009*\"distribuida\" + 0.008*\"información\" + 0.007*\"objetivo\" + 0.007*\"computación\" + 0.007*\"arquitectura\" + 0.006*\"tiempo\" + 0.006*\"forma\" + 0.006*\"distribuido\" + 0.006*\"problema\" + 0.006*\"grand\" + 0.006*\"necesidad\" + 0.006*\"modelo\" + 0.006*\"biométrico\" + 0.006*\"alto\"'),\n",
       " (9,\n",
       "  '0.000*\"sistema\" + 0.000*\"proceso\" + 0.000*\"desarrollo\" + 0.000*\"trabajo\" + 0.000*\"herramienta\" + 0.000*\"información\" + 0.000*\"visualización\" + 0.000*\"aprendizaj\" + 0.000*\"problema\" + 0.000*\"objetivo\" + 0.000*\"modelo\" + 0.000*\"softwar\" + 0.000*\"investigación\" + 0.000*\"proyecto\" + 0.000*\"aplicación\" + 0.000*\"web\" + 0.000*\"dato\" + 0.000*\"informática\" + 0.000*\"forma\" + 0.000*\"diferent\"')]"
      ]
     },
     "execution_count": 41,
     "metadata": {},
     "output_type": "execute_result"
    }
   ],
   "source": [
    "# show_topics method shows the the top num_words contributing to num_topics number of random topics\n",
    "lda.show_topics(num_topics=10, num_words=20)"
   ]
  },
  {
   "cell_type": "markdown",
   "metadata": {},
   "source": [
    "### Similarity queries"
   ]
  },
  {
   "cell_type": "markdown",
   "metadata": {},
   "source": [
    "Determine similarity with test document"
   ]
  },
  {
   "cell_type": "code",
   "execution_count": 42,
   "metadata": {},
   "outputs": [],
   "source": [
    "file = open('../data/sedici/test.txt', 'r')\n",
    "\n",
    "test_data = file.readline() # just one line\n",
    "\n"
   ]
  },
  {
   "cell_type": "code",
   "execution_count": 43,
   "metadata": {},
   "outputs": [
    {
     "data": {
      "text/plain": [
       "'Clasificación automática de contenedores de demandas y habilidades en selección de expertos. La selección de expertos a menudo carece de descripciones útiles sobre las habilidades que los candidatos deben poseer para alcanzar las demandas requeridas para cubrir una posición dentro de una organización. Esta falta de descripciones inhibe la producción de evaluaciones precisas sobre la adecuación o congruencia entre demandas y habilidades (Adecuación Persona-Trabajo). Nosotros sostenemos que la clasificación automática de descripciones a partir de contextos de evaluación pueden contribuir a un mejor entendimiento de cómo los procesos de selección de expertos realmente trabajan. En este artículo, proponemos un enfoque de aprendizaje supervisado para la clasificación de descripciones que contengan demandas y habilidades a partir de transcripciones de tipo entrevista de trabajo. Asimismo, presentamos un caso de estudio de nominaciones de candidatos a ocupar posiciones ejecutivas en el servicio público. Nuestro modelo alcanzó un f1_score=0.71 (clase positiva), con posibles aplicaciones en procesos de selección de personas.\\n'"
      ]
     },
     "execution_count": 43,
     "metadata": {},
     "output_type": "execute_result"
    }
   ],
   "source": [
    "test_data"
   ]
  },
  {
   "cell_type": "code",
   "execution_count": 45,
   "metadata": {},
   "outputs": [],
   "source": [
    "new_bow = dictionary.doc2bow(apply_all(test_data))"
   ]
  },
  {
   "cell_type": "code",
   "execution_count": 46,
   "metadata": {},
   "outputs": [],
   "source": [
    "new_doc_distribution = np.array([tup[1] for tup in lda.get_document_topics(bow=new_bow)])"
   ]
  },
  {
   "cell_type": "markdown",
   "metadata": {},
   "source": [
    "Get topic distributions"
   ]
  },
  {
   "cell_type": "code",
   "execution_count": 47,
   "metadata": {},
   "outputs": [],
   "source": [
    "doc_topic_dist = np.array([[tup[1] for tup in lst] for lst in lda[corpus]])"
   ]
  },
  {
   "cell_type": "markdown",
   "metadata": {},
   "source": [
    "Define a similarity function"
   ]
  },
  {
   "cell_type": "code",
   "execution_count": 48,
   "metadata": {},
   "outputs": [],
   "source": [
    "def jensen_shannon(query, matrix):\n",
    "    \"\"\"\n",
    "    This function implements a Jensen-Shannon similarity\n",
    "    between the input query (an LDA topic distribution for a document)\n",
    "    and the entire corpus of topic distributions.\n",
    "    It returns an array of length M where M is the number of documents in the corpus\n",
    "    \"\"\"\n",
    "    # lets keep with the p,q notation above\n",
    "    p = query[None,:].T # take transpose\n",
    "    q = matrix.T # transpose matrix\n",
    "    m = 0.5*(p + q)\n",
    "    return np.sqrt(0.5*(entropy(p,m) + entropy(q,m)))"
   ]
  },
  {
   "cell_type": "markdown",
   "metadata": {},
   "source": [
    "Get most similar author's content"
   ]
  },
  {
   "cell_type": "code",
   "execution_count": 49,
   "metadata": {},
   "outputs": [],
   "source": [
    "def get_most_similar_documents(query,matrix,k=10):\n",
    "    \"\"\"\n",
    "    This function implements the Jensen-Shannon distance above\n",
    "    and retruns the top k indices of the smallest jensen shannon distances\n",
    "    \"\"\"\n",
    "    sims = jensen_shannon(query,matrix) # list of jensen shannon distances\n",
    "    return sims.argsort()[:k] # the top k positional index of the smallest Jensen Shannon distances"
   ]
  },
  {
   "cell_type": "code",
   "execution_count": 50,
   "metadata": {},
   "outputs": [],
   "source": [
    "# this is surprisingly fast\n",
    "most_sim_ids = get_most_similar_documents(new_doc_distribution,doc_topic_dist)"
   ]
  },
  {
   "cell_type": "code",
   "execution_count": 51,
   "metadata": {},
   "outputs": [
    {
     "data": {
      "text/plain": [
       "38      Reuso orientado a dominios: hacia un enfoque b...\n",
       "690     Identificación automática de usuarios conflict...\n",
       "745     Construcción colaborativa de ontologías CO-Pro...\n",
       "829     Técnicas y herramientas para desarrollo de sit...\n",
       "1070    Hacia la obtención de un modelo de base de dat...\n",
       "2599    Extendiendo la meta-arquitectura aportada por ...\n",
       "2924    Desarrollo de un esquema de Gestión de Riesgos...\n",
       "2972    Identificación automática de usuarios conflict...\n",
       "3102    Diseño y evaluación tempranos para priorizar l...\n",
       "3170    Diseño y evaluación tempranos para priorizar l...\n",
       "Name: content, dtype: object"
      ]
     },
     "execution_count": 51,
     "metadata": {},
     "output_type": "execute_result"
    }
   ],
   "source": [
    "most_similar_df = df_content[df_content.index.isin(most_sim_ids)]\n",
    "most_similar_df['content']"
   ]
  },
  {
   "cell_type": "markdown",
   "metadata": {},
   "source": [
    "Get authors from file and print authors with content similar to the test data"
   ]
  },
  {
   "cell_type": "code",
   "execution_count": 52,
   "metadata": {},
   "outputs": [],
   "source": [
    "authors = pd.read_csv('../data/sedici/authors.csv', names=['author_id', 'last_name', 'first_name', 'other'])"
   ]
  },
  {
   "cell_type": "code",
   "execution_count": 53,
   "metadata": {},
   "outputs": [
    {
     "data": {
      "text/plain": [
       "(22380, 4)"
      ]
     },
     "execution_count": 53,
     "metadata": {},
     "output_type": "execute_result"
    }
   ],
   "source": [
    "authors.shape"
   ]
  },
  {
   "cell_type": "code",
   "execution_count": 54,
   "metadata": {},
   "outputs": [],
   "source": [
    "result = []\n",
    "\n",
    "for idx, item in authors['author_id'].iteritems():\n",
    "    result.append(item in most_similar_df['author_id'].tolist())"
   ]
  },
  {
   "cell_type": "code",
   "execution_count": 55,
   "metadata": {},
   "outputs": [
    {
     "data": {
      "text/html": [
       "<div>\n",
       "<style scoped>\n",
       "    .dataframe tbody tr th:only-of-type {\n",
       "        vertical-align: middle;\n",
       "    }\n",
       "\n",
       "    .dataframe tbody tr th {\n",
       "        vertical-align: top;\n",
       "    }\n",
       "\n",
       "    .dataframe thead th {\n",
       "        text-align: right;\n",
       "    }\n",
       "</style>\n",
       "<table border=\"1\" class=\"dataframe\">\n",
       "  <thead>\n",
       "    <tr style=\"text-align: right;\">\n",
       "      <th></th>\n",
       "      <th>author_id</th>\n",
       "      <th>last_name</th>\n",
       "      <th>first_name</th>\n",
       "      <th>other</th>\n",
       "    </tr>\n",
       "  </thead>\n",
       "  <tbody>\n",
       "    <tr>\n",
       "      <th>1129</th>\n",
       "      <td>55260</td>\n",
       "      <td>Armentano</td>\n",
       "      <td>Marcelo G.</td>\n",
       "      <td>NaN</td>\n",
       "    </tr>\n",
       "    <tr>\n",
       "      <th>1499</th>\n",
       "      <td>56975</td>\n",
       "      <td>Baldo</td>\n",
       "      <td>Guillermo</td>\n",
       "      <td>NaN</td>\n",
       "    </tr>\n",
       "    <tr>\n",
       "      <th>2141</th>\n",
       "      <td>65150</td>\n",
       "      <td>Berdun</td>\n",
       "      <td>Franco</td>\n",
       "      <td>NaN</td>\n",
       "    </tr>\n",
       "    <tr>\n",
       "      <th>3855</th>\n",
       "      <td>54201</td>\n",
       "      <td>Caro</td>\n",
       "      <td>Angélica</td>\n",
       "      <td>NaN</td>\n",
       "    </tr>\n",
       "    <tr>\n",
       "      <th>8207</th>\n",
       "      <td>53345</td>\n",
       "      <td>Gaetán</td>\n",
       "      <td>Gabriela</td>\n",
       "      <td>NaN</td>\n",
       "    </tr>\n",
       "    <tr>\n",
       "      <th>12082</th>\n",
       "      <td>65486</td>\n",
       "      <td>Lugani</td>\n",
       "      <td>Carlos Fabián</td>\n",
       "      <td>NaN</td>\n",
       "    </tr>\n",
       "    <tr>\n",
       "      <th>12919</th>\n",
       "      <td>66892</td>\n",
       "      <td>Martín</td>\n",
       "      <td>Adriana Elba</td>\n",
       "      <td>NaN</td>\n",
       "    </tr>\n",
       "    <tr>\n",
       "      <th>13049</th>\n",
       "      <td>66892</td>\n",
       "      <td>Martín</td>\n",
       "      <td>Adriana Elba</td>\n",
       "      <td>NaN</td>\n",
       "    </tr>\n",
       "    <tr>\n",
       "      <th>13828</th>\n",
       "      <td>53349</td>\n",
       "      <td>Miranda</td>\n",
       "      <td>Gabriela</td>\n",
       "      <td>NaN</td>\n",
       "    </tr>\n",
       "    <tr>\n",
       "      <th>18059</th>\n",
       "      <td>55275</td>\n",
       "      <td>Roqué Fourcade</td>\n",
       "      <td>Luis</td>\n",
       "      <td>NaN</td>\n",
       "    </tr>\n",
       "    <tr>\n",
       "      <th>18557</th>\n",
       "      <td>53326</td>\n",
       "      <td>Saldaño</td>\n",
       "      <td>Viviana E.</td>\n",
       "      <td>NaN</td>\n",
       "    </tr>\n",
       "  </tbody>\n",
       "</table>\n",
       "</div>"
      ],
      "text/plain": [
       "       author_id       last_name     first_name other\n",
       "1129       55260       Armentano     Marcelo G.   NaN\n",
       "1499       56975           Baldo      Guillermo   NaN\n",
       "2141       65150          Berdun         Franco   NaN\n",
       "3855       54201            Caro       Angélica   NaN\n",
       "8207       53345          Gaetán       Gabriela   NaN\n",
       "12082      65486          Lugani  Carlos Fabián   NaN\n",
       "12919      66892          Martín   Adriana Elba   NaN\n",
       "13049      66892          Martín   Adriana Elba   NaN\n",
       "13828      53349         Miranda       Gabriela   NaN\n",
       "18059      55275  Roqué Fourcade           Luis   NaN\n",
       "18557      53326         Saldaño     Viviana E.   NaN"
      ]
     },
     "execution_count": 55,
     "metadata": {},
     "output_type": "execute_result"
    }
   ],
   "source": [
    "authors.iloc[result]"
   ]
  },
  {
   "cell_type": "markdown",
   "metadata": {},
   "source": [
    "We can take a look at the articles of the authors retrieved by the similarity funcion."
   ]
  },
  {
   "cell_type": "code",
   "execution_count": 59,
   "metadata": {},
   "outputs": [
    {
     "data": {
      "text/html": [
       "<div>\n",
       "<style scoped>\n",
       "    .dataframe tbody tr th:only-of-type {\n",
       "        vertical-align: middle;\n",
       "    }\n",
       "\n",
       "    .dataframe tbody tr th {\n",
       "        vertical-align: top;\n",
       "    }\n",
       "\n",
       "    .dataframe thead th {\n",
       "        text-align: right;\n",
       "    }\n",
       "</style>\n",
       "<table border=\"1\" class=\"dataframe\">\n",
       "  <thead>\n",
       "    <tr style=\"text-align: right;\">\n",
       "      <th></th>\n",
       "      <th>author_id</th>\n",
       "      <th>article_id</th>\n",
       "      <th>title</th>\n",
       "      <th>abstract</th>\n",
       "      <th>language</th>\n",
       "    </tr>\n",
       "  </thead>\n",
       "  <tbody>\n",
       "    <tr>\n",
       "      <th>6937</th>\n",
       "      <td>55260</td>\n",
       "      <td>70804</td>\n",
       "      <td>Identificación automática de usuarios conflict...</td>\n",
       "      <td>Actualmente, las redes sociales cumplen un pap...</td>\n",
       "      <td>es</td>\n",
       "    </tr>\n",
       "    <tr>\n",
       "      <th>6938</th>\n",
       "      <td>55260</td>\n",
       "      <td>56972</td>\n",
       "      <td>Inferencia de roles de equipo a partir de cond...</td>\n",
       "      <td>En un entorno de trabajo colaborativo, grupos ...</td>\n",
       "      <td>es</td>\n",
       "    </tr>\n",
       "    <tr>\n",
       "      <th>6939</th>\n",
       "      <td>55260</td>\n",
       "      <td>52117</td>\n",
       "      <td>Clasificación de conductas colaborativas a par...</td>\n",
       "      <td>En un entorno de trabajo colaborativo, grupos ...</td>\n",
       "      <td>es</td>\n",
       "    </tr>\n",
       "    <tr>\n",
       "      <th>6940</th>\n",
       "      <td>55260</td>\n",
       "      <td>21462</td>\n",
       "      <td>El proyecto AGUSINA</td>\n",
       "      <td>Las vías rápidas de información se nos present...</td>\n",
       "      <td>es</td>\n",
       "    </tr>\n",
       "    <tr>\n",
       "      <th>6941</th>\n",
       "      <td>55260</td>\n",
       "      <td>41726</td>\n",
       "      <td>Inducción de preferencias a partir del context...</td>\n",
       "      <td>Los sistemas de recomendación que usan técnica...</td>\n",
       "      <td>es</td>\n",
       "    </tr>\n",
       "    <tr>\n",
       "      <th>6942</th>\n",
       "      <td>55260</td>\n",
       "      <td>65939</td>\n",
       "      <td>Detección de conductas a partir de interaccion...</td>\n",
       "      <td>La observación y el análisis de la dinámica de...</td>\n",
       "      <td>es</td>\n",
       "    </tr>\n",
       "  </tbody>\n",
       "</table>\n",
       "</div>"
      ],
      "text/plain": [
       "      author_id  article_id  \\\n",
       "6937      55260       70804   \n",
       "6938      55260       56972   \n",
       "6939      55260       52117   \n",
       "6940      55260       21462   \n",
       "6941      55260       41726   \n",
       "6942      55260       65939   \n",
       "\n",
       "                                                  title  \\\n",
       "6937  Identificación automática de usuarios conflict...   \n",
       "6938  Inferencia de roles de equipo a partir de cond...   \n",
       "6939  Clasificación de conductas colaborativas a par...   \n",
       "6940                                El proyecto AGUSINA   \n",
       "6941  Inducción de preferencias a partir del context...   \n",
       "6942  Detección de conductas a partir de interaccion...   \n",
       "\n",
       "                                               abstract language  \n",
       "6937  Actualmente, las redes sociales cumplen un pap...       es  \n",
       "6938  En un entorno de trabajo colaborativo, grupos ...       es  \n",
       "6939  En un entorno de trabajo colaborativo, grupos ...       es  \n",
       "6940  Las vías rápidas de información se nos present...       es  \n",
       "6941  Los sistemas de recomendación que usan técnica...       es  \n",
       "6942  La observación y el análisis de la dinámica de...       es  "
      ]
     },
     "execution_count": 59,
     "metadata": {},
     "output_type": "execute_result"
    }
   ],
   "source": [
    "df[df['author_id'] == 55260]"
   ]
  },
  {
   "cell_type": "markdown",
   "metadata": {},
   "source": [
    "## Conclusions"
   ]
  },
  {
   "cell_type": "markdown",
   "metadata": {},
   "source": [
    "In this notebook we test a strategy to measure similarity between documents and expert profiles. \n",
    "This approach introduce an alternative for expert finding, where queries are represented by text documents, and expert profiles are represented by LDA models.\n",
    "Results of the similarity function must be validated somehow. This validation could be made by introducing\n",
    "feedback from experts from personel selection domain."
   ]
  }
 ],
 "metadata": {
  "kernelspec": {
   "display_name": "pj_fit",
   "language": "python",
   "name": "pj_fit"
  },
  "language_info": {
   "codemirror_mode": {
    "name": "ipython",
    "version": 3
   },
   "file_extension": ".py",
   "mimetype": "text/x-python",
   "name": "python",
   "nbconvert_exporter": "python",
   "pygments_lexer": "ipython3",
   "version": "3.5.2"
  }
 },
 "nbformat": 4,
 "nbformat_minor": 2
}
