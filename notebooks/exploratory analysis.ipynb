{
 "cells": [
  {
   "cell_type": "markdown",
   "metadata": {},
   "source": [
    "# Analysis on nominations dataset"
   ]
  },
  {
   "cell_type": "markdown",
   "metadata": {},
   "source": [
    "The aim of this notebook is an exploratory analysis of the nominations dataset\n",
    "\n",
    "Exploratory analisis the following objectives:\n",
    "1. Apply feature engineering to data (feature extraction and selection)\n",
    "2. Describe data and search for possible segmentations about demands and abilities of applicants"
   ]
  },
  {
   "cell_type": "markdown",
   "metadata": {},
   "source": [
    "## Feature engineering"
   ]
  },
  {
   "cell_type": "markdown",
   "metadata": {},
   "source": [
    "The aim of this step is to develop useful features that may help us to describe the data and ultimately get insights about a possible segmentation of the data with regard to demands and abilities of the applicants."
   ]
  },
  {
   "cell_type": "markdown",
   "metadata": {},
   "source": [
    "### Load data"
   ]
  },
  {
   "cell_type": "code",
   "execution_count": 1,
   "metadata": {
    "collapsed": true
   },
   "outputs": [],
   "source": [
    "import pandas as pd"
   ]
  },
  {
   "cell_type": "code",
   "execution_count": 3,
   "metadata": {},
   "outputs": [],
   "source": [
    "df = pd.read_csv('../data/OSTP_CHRH_senators_labeled.csv', sep='\\t')"
   ]
  },
  {
   "cell_type": "code",
   "execution_count": 6,
   "metadata": {},
   "outputs": [],
   "source": [
    "df.sentence = df.sentence.str.strip()"
   ]
  },
  {
   "cell_type": "code",
   "execution_count": 7,
   "metadata": {},
   "outputs": [
    {
     "data": {
      "text/plain": [
       "0       Our special guest this morning as we have our ...\n",
       "1       I don't have much of a statement to make prior...\n",
       "2       I include my statement in the recoranyielto ou...\n",
       "3       We appreciate your coming this morning anyour ...\n",
       "4       I'm very pleaseto be here to indicate my very ...\n",
       "5       During her tenure there, she's chairethe Commi...\n",
       "6       She's been the Commission's learepresentative ...\n",
       "7       She's currently a member of the National Assoc...\n",
       "8       The Committee knows well that she's been an ac...\n",
       "9       She's workeharto promote the advancement of ne...\n",
       "10      She's playea key role in shaping policies for ...\n",
       "11      She's creditewith helping to forge a consensus...\n",
       "12      She's worketirelessly to facilitate delivery o...\n",
       "13      She haa very distinguisherecorbefore coming to...\n",
       "14      She has been a senior lender to communication ...\n",
       "15      She has been a very active leader in our commu...\n",
       "16      She has done I think a terrific job in handlin...\n",
       "17      I think she's reflecteprudence, intelligence, ...\n",
       "18      I believe my senior colleague coverea lot of t...\n",
       "19      Mr. Chairman, I, too, wholeheartedly endorse t...\n",
       "20      I think she brings competence, I think she bri...\n",
       "21      She brought to the Commission initially an inc...\n",
       "22      Now, that's a pretty excellent backgrounto bri...\n",
       "23      We have been particularly prouof the job she's...\n",
       "24      Then she's also taken the work of unnecessary ...\n",
       "25      In her work at the Federal/State Joint Board, ...\n",
       "26      She was the FCC's rep in 1995 an1997 anone of ...\n",
       "27      If we invent it, we want to be able to sell it...\n",
       "28      She's been recognizeby her peers, a recipient ...\n",
       "29      Electronic Media nameher as one of 12 to watch...\n",
       "                              ...                        \n",
       "7708    Thank you, Mr. Chairman, anthank you, Ms. Prit...\n",
       "7709    Let me say at the outset that in a bipartisan ...\n",
       "7710    I woullike to begin by talking about a topic y...\n",
       "7711    Anin the course of that conversation, as I und...\n",
       "7712    As I sharewith you, I have been disappointetha...\n",
       "7713    Anif you are confirmed, I hope that you will b...\n",
       "7714    A seconarea that we talkeabout that I woullike...\n",
       "7715    I think that is the most critical element to e...\n",
       "7716    Anwe talkequite a bit about the impact of over...\n",
       "7717    Yesterday in confirmation hearings with the no...\n",
       "7718    Anindeehis response, which I will confess, I l...\n",
       "7719    You also suggestein our conversation the conce...\n",
       "7720    I very much agree with that notion, anso I wou...\n",
       "7721    I look forwarto working with you on that, anI ...\n",
       "7722    Anas you know, right now, the vast majority of...\n",
       "7723    Anlast year's Spectrum Act statutorily require...\n",
       "7724    In my view, Federal Government ownership of as...\n",
       "7725    Anon spectrum, in particular, I woullike to se...\n",
       "7726    Anwoulyou agree to work together to try to ass...\n",
       "7727    We are about ready to wrap this up, anthe unpl...\n",
       "7728    But I wanteto ask one other question, anfor a ...\n",
       "7729    But some have criticizethe fact that you are a...\n",
       "7730    One of the areas under your purview is going t...\n",
       "7731    Anthe law is intendeto prevent domestic indust...\n",
       "7732    The Commerce Department determines the precise...\n",
       "7733    entry customs bonds, which are referreto new s...\n",
       "7734    The question is, will you commit to provide Co...\n",
       "7735    dumping duties on these agricultural imports f...\n",
       "7736    There are a number of honey producers in South...\n",
       "7737    There is a lot of transshippehoney from China,...\n",
       "Name: sentence, Length: 7738, dtype: object"
      ]
     },
     "execution_count": 7,
     "metadata": {},
     "output_type": "execute_result"
    }
   ],
   "source": [
    "df.sentence"
   ]
  },
  {
   "cell_type": "markdown",
   "metadata": {},
   "source": [
    "### Distribution"
   ]
  },
  {
   "cell_type": "markdown",
   "metadata": {},
   "source": [
    "Take a look at the distribution of the dataset"
   ]
  },
  {
   "cell_type": "code",
   "execution_count": 20,
   "metadata": {
    "collapsed": true
   },
   "outputs": [],
   "source": [
    "import seaborn as sns\n",
    "\n",
    "%matplotlib inline"
   ]
  },
  {
   "cell_type": "code",
   "execution_count": 38,
   "metadata": {},
   "outputs": [
    {
     "name": "stdout",
     "output_type": "stream",
     "text": [
      "       count  pencentage\n",
      "label                   \n",
      "D       1001    0.129362\n",
      "N       6737    0.870638\n"
     ]
    },
    {
     "data": {
      "text/plain": [
       "<matplotlib.axes._subplots.AxesSubplot at 0x7f6d47508cf8>"
      ]
     },
     "execution_count": 38,
     "metadata": {},
     "output_type": "execute_result"
    },
    {
     "data": {
      "image/png": "[encoded data removed]",
      "text/plain": [
       "<matplotlib.figure.Figure at 0x7f6d474b5f98>"
      ]
     },
     "metadata": {},
     "output_type": "display_data"
    }
   ],
   "source": [
    "df_label_counts = df.groupby(['label']).count()\n",
    "\n",
    "result = pd.concat([df_label_counts, df_label_counts.apply(lambda x: x/x.sum())], axis =1)\n",
    "result.columns = ['count', 'pencentage']\n",
    "print(result)\n",
    "\n",
    "df_label_counts.plot(kind='bar')"
   ]
  },
  {
   "cell_type": "markdown",
   "metadata": {},
   "source": [
    "Our dataset has an *asymetric distribution*"
   ]
  },
  {
   "cell_type": "markdown",
   "metadata": {},
   "source": [
    "## Feature engineering"
   ]
  },
  {
   "cell_type": "markdown",
   "metadata": {},
   "source": [
    "The dataset is mostly natural language. This step involves the application of Natural Language Processing to extract useful data from the *sentences* of the nominations dataset."
   ]
  },
  {
   "cell_type": "markdown",
   "metadata": {},
   "source": [
    "Each row of the dataset is already a sentence, so sentence split is unnecesary.\n",
    "\n",
    "The NLP pipeline for the sentences dataset involves:\n",
    "1. Remove punctuation and stopwords\n",
    "2. Tokenization (1 to 3 ngrams)"
   ]
  },
  {
   "cell_type": "markdown",
   "metadata": {},
   "source": [
    "### NLP Pipeline"
   ]
  },
  {
   "cell_type": "code",
   "execution_count": 40,
   "metadata": {
    "collapsed": true
   },
   "outputs": [],
   "source": [
    "from sklearn.feature_extraction.text import TfidfVectorizer"
   ]
  },
  {
   "cell_type": "markdown",
   "metadata": {},
   "source": [
    "The docs of the sklearn tfidfvectorizer state the following:\n",
    "\n",
    "<cite>\n",
    "class sklearn.feature_extraction.text.TfidfVectorizer(input=’content’, encoding=’utf-8’, decode_error=’strict’, strip_accents=None, lowercase=True, preprocessor=None, tokenizer=None, analyzer=’word’, stop_words=None, token_pattern=’(?u)\\b\\w\\w+\\b’, ngram_range=(1, 1), max_df=1.0, min_df=1, max_features=None, vocabulary=None, binary=False, dtype=<class ‘numpy.float64’>, norm=’l2’, use_idf=True, smooth_idf=True, sublinear_tf=False)[source]¶\n",
    "</cite>"
   ]
  },
  {
   "cell_type": "markdown",
   "metadata": {},
   "source": [
    "We start with a simple approach by producing 1-grams"
   ]
  },
  {
   "cell_type": "code",
   "execution_count": 50,
   "metadata": {
    "collapsed": true
   },
   "outputs": [],
   "source": [
    "vec = TfidfVectorizer(lowercase=False, ngram_range=(1,1))"
   ]
  },
  {
   "cell_type": "code",
   "execution_count": 51,
   "metadata": {
    "collapsed": true
   },
   "outputs": [],
   "source": [
    "vec_fit = vec.fit_transform(df.sentence)"
   ]
  },
  {
   "cell_type": "code",
   "execution_count": 52,
   "metadata": {},
   "outputs": [
    {
     "data": {
      "text/plain": [
       "16130"
      ]
     },
     "execution_count": 52,
     "metadata": {},
     "output_type": "execute_result"
    }
   ],
   "source": [
    "len(vec.get_feature_names())"
   ]
  },
  {
   "cell_type": "code",
   "execution_count": 64,
   "metadata": {},
   "outputs": [
    {
     "data": {
      "text/plain": [
       "<1001x16130 sparse matrix of type '<class 'numpy.float64'>'\n",
       "\twith 23117 stored elements in Compressed Sparse Row format>"
      ]
     },
     "execution_count": 64,
     "metadata": {},
     "output_type": "execute_result"
    }
   ],
   "source": [
    "# Index of 'D' labeled documents\n",
    "idx_D_labeled = df.label[df.label == 'D'].index.tolist()\n",
    "\n",
    "#features of the 'D' labeled documents\n",
    "vec_fit[idx_D_labeled, :]"
   ]
  },
  {
   "cell_type": "markdown",
   "metadata": {},
   "source": [
    "Now, take a look at the frequencies of the features in the whole dataset"
   ]
  },
  {
   "cell_type": "code",
   "execution_count": 108,
   "metadata": {},
   "outputs": [],
   "source": [
    "features_tfidf = pd.Series(vec_fit[idx_D_labeled, :].T.sum(axis=1).ravel().tolist()[0], index=vec.get_feature_names())"
   ]
  },
  {
   "cell_type": "code",
   "execution_count": 115,
   "metadata": {
    "scrolled": true
   },
   "outputs": [
    {
     "data": {
      "text/plain": [
       "<matplotlib.axes._subplots.AxesSubplot at 0x7f6d4781b780>"
      ]
     },
     "execution_count": 115,
     "metadata": {},
     "output_type": "execute_result"
    },
    {
     "data": {
      "image/png": "[encoded data removed]",
      "text/plain": [
       "<matplotlib.figure.Figure at 0x7f6d39d8fef0>"
      ]
     },
     "metadata": {},
     "output_type": "display_data"
    }
   ],
   "source": [
    "features_tfidf.sort_values(ascending=False)[:20].plot(kind='bar')"
   ]
  },
  {
   "cell_type": "markdown",
   "metadata": {},
   "source": [
    "The dataset shows a high dimensionality and the top 20 tfidf features are mostly stopwords."
   ]
  },
  {
   "cell_type": "markdown",
   "metadata": {},
   "source": [
    "### Add stopwords"
   ]
  },
  {
   "cell_type": "code",
   "execution_count": 116,
   "metadata": {
    "collapsed": true
   },
   "outputs": [],
   "source": [
    "vec = TfidfVectorizer(lowercase=False, ngram_range=(1,1), stop_words='english')\n",
    "\n",
    "vec_fit = vec.fit_transform(df.sentence)"
   ]
  },
  {
   "cell_type": "code",
   "execution_count": 117,
   "metadata": {},
   "outputs": [
    {
     "data": {
      "text/plain": [
       "15855"
      ]
     },
     "execution_count": 117,
     "metadata": {},
     "output_type": "execute_result"
    }
   ],
   "source": [
    "len(vec.get_feature_names())"
   ]
  },
  {
   "cell_type": "markdown",
   "metadata": {},
   "source": [
    "Now, take a look at the frequencies of the features in the whole dataset"
   ]
  },
  {
   "cell_type": "code",
   "execution_count": 118,
   "metadata": {
    "collapsed": true
   },
   "outputs": [],
   "source": [
    "features_tfidf = pd.Series(vec_fit[idx_D_labeled, :].T.sum(axis=1).ravel().tolist()[0], index=vec.get_feature_names())"
   ]
  },
  {
   "cell_type": "code",
   "execution_count": 119,
   "metadata": {
    "scrolled": true
   },
   "outputs": [
    {
     "data": {
      "text/plain": [
       "<matplotlib.axes._subplots.AxesSubplot at 0x7f6d39a52748>"
      ]
     },
     "execution_count": 119,
     "metadata": {},
     "output_type": "execute_result"
    },
    {
     "data": {
      "image/png": "[encoded data removed]",
      "text/plain": [
       "<matplotlib.figure.Figure at 0x7f6d39a45b70>"
      ]
     },
     "metadata": {},
     "output_type": "display_data"
    }
   ],
   "source": [
    "features_tfidf.sort_values(ascending=False)[:20].plot(kind='bar')"
   ]
  },
  {
   "cell_type": "markdown",
   "metadata": {},
   "source": [
    "### Ngram n=(2,4)"
   ]
  },
  {
   "cell_type": "code",
   "execution_count": 120,
   "metadata": {
    "collapsed": true
   },
   "outputs": [],
   "source": [
    "vec = TfidfVectorizer(lowercase=False, ngram_range=(2,4), stop_words='english')\n",
    "\n",
    "vec_fit = vec.fit_transform(df.sentence)"
   ]
  },
  {
   "cell_type": "code",
   "execution_count": 121,
   "metadata": {},
   "outputs": [
    {
     "data": {
      "text/plain": [
       "245912"
      ]
     },
     "execution_count": 121,
     "metadata": {},
     "output_type": "execute_result"
    }
   ],
   "source": [
    "len(vec.get_feature_names())"
   ]
  },
  {
   "cell_type": "markdown",
   "metadata": {},
   "source": [
    "Now, take a look at the frequencies of the features in the whole dataset"
   ]
  },
  {
   "cell_type": "code",
   "execution_count": 122,
   "metadata": {
    "collapsed": true
   },
   "outputs": [],
   "source": [
    "features_tfidf = pd.Series(vec_fit[idx_D_labeled, :].T.sum(axis=1).ravel().tolist()[0], index=vec.get_feature_names())"
   ]
  },
  {
   "cell_type": "code",
   "execution_count": 125,
   "metadata": {
    "scrolled": false
   },
   "outputs": [
    {
     "data": {
      "text/plain": [
       "<matplotlib.axes._subplots.AxesSubplot at 0x7f6d39667518>"
      ]
     },
     "execution_count": 125,
     "metadata": {},
     "output_type": "execute_result"
    },
    {
     "data": {
      "image/png": "[encoded data removed]",
      "text/plain": [
       "<matplotlib.figure.Figure at 0x7f6d3937af60>"
      ]
     },
     "metadata": {},
     "output_type": "display_data"
    }
   ],
   "source": [
    "features_tfidf.sort_values(ascending=False)[:50].plot(kind='bar', figsize=(10,8))"
   ]
  },
  {
   "cell_type": "markdown",
   "metadata": {},
   "source": [
    "There are many names for locations and persons that we could replace with other representative tokens such as LOCATION, ROLE, and NAME.\n",
    "\n",
    "Next step is to use Name Entity Recognition"
   ]
  },
  {
   "cell_type": "markdown",
   "metadata": {},
   "source": [
    "### Name Entity Recognition"
   ]
  },
  {
   "cell_type": "code",
   "execution_count": 126,
   "metadata": {},
   "outputs": [
    {
     "ename": "ImportError",
     "evalue": "No module named 'textacy'",
     "output_type": "error",
     "traceback": [
      "\u001b[0;31m---------------------------------------------------------------------------\u001b[0m",
      "\u001b[0;31mImportError\u001b[0m                               Traceback (most recent call last)",
      "\u001b[0;32m<ipython-input-126-4a0804dbecbf>\u001b[0m in \u001b[0;36m<module>\u001b[0;34m()\u001b[0m\n\u001b[0;32m----> 1\u001b[0;31m \u001b[0;32mimport\u001b[0m \u001b[0mtextacy\u001b[0m\u001b[0;34m\u001b[0m\u001b[0m\n\u001b[0m",
      "\u001b[0;31mImportError\u001b[0m: No module named 'textacy'"
     ]
    }
   ],
   "source": [
    "import textacy"
   ]
  },
  {
   "cell_type": "code",
   "execution_count": null,
   "metadata": {
    "collapsed": true
   },
   "outputs": [],
   "source": []
  }
 ],
 "metadata": {
  "kernelspec": {
   "display_name": "Python 3",
   "language": "python",
   "name": "python3"
  },
  "language_info": {
   "codemirror_mode": {
    "name": "ipython",
    "version": 3
   },
   "file_extension": ".py",
   "mimetype": "text/x-python",
   "name": "python",
   "nbconvert_exporter": "python",
   "pygments_lexer": "ipython3",
   "version": "3.5.2"
  }
 },
 "nbformat": 4,
 "nbformat_minor": 2
}
