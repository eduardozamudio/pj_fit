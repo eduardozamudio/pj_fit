{
 "cells": [
  {
   "cell_type": "markdown",
   "metadata": {},
   "source": [
    "# Analysis on nominations dataset"
   ]
  },
  {
   "cell_type": "markdown",
   "metadata": {},
   "source": [
    "The aim of this notebook is an exploratory analysis of the nominations dataset\n",
    "\n",
    "Exploratory analisis the following objectives:\n",
    "1. Apply feature engineering to data (feature extraction and selection)\n",
    "2. Describe data and search for possible segmentations about demands and abilities of applicants"
   ]
  },
  {
   "cell_type": "markdown",
   "metadata": {},
   "source": [
    "## Feature engineering"
   ]
  },
  {
   "cell_type": "markdown",
   "metadata": {},
   "source": [
    "The aim of this step is to develop useful features that may help us to describe the data and ultimately get insights about a possible segmentation of the data with regard to demands and abilities of the applicants."
   ]
  },
  {
   "cell_type": "markdown",
   "metadata": {},
   "source": [
    "### Load data"
   ]
  },
  {
   "cell_type": "code",
   "execution_count": 51,
   "metadata": {},
   "outputs": [],
   "source": [
    "import pandas as pd"
   ]
  },
  {
   "cell_type": "code",
   "execution_count": 58,
   "metadata": {},
   "outputs": [],
   "source": [
    "df = pd.read_csv('../data/training_data.csv', sep=';')\n",
    "df.rename(columns={'Sentencias':'sentence'}, inplace=True)"
   ]
  },
  {
   "cell_type": "code",
   "execution_count": 59,
   "metadata": {},
   "outputs": [],
   "source": [
    "df.sentence = df.sentence.str.strip()"
   ]
  },
  {
   "cell_type": "code",
   "execution_count": 60,
   "metadata": {},
   "outputs": [
    {
     "data": {
      "text/plain": [
       "0       Our special guest this morning as we have our ...\n",
       "1       I don't have much of a statement to make prior...\n",
       "2       I include my statement in the record and yield...\n",
       "3       We appreciate your coming this morning and you...\n",
       "4       I'm very pleased to be here to indicate my ver...\n",
       "5       During her tenure there, she's chaired the Com...\n",
       "6       She's been the Commission's lead representativ...\n",
       "7       She's currently a member of the National Assoc...\n",
       "8       The Committee knows well that she's been an ac...\n",
       "9       She's worked hard to promote the advancement o...\n",
       "10      She's played a key role in shaping policies fo...\n",
       "11      She's credited with helping to forge a consens...\n",
       "12      She's worked tirelessly to facilitate delivery...\n",
       "13      She had a very distinguished record before com...\n",
       "14      She has been a senior lender to communication ...\n",
       "15      She has been a very active leader in our commu...\n",
       "16      She has done I think a terrific job in handlin...\n",
       "17      I think she's reflected prudence, intelligence...\n",
       "18      I believe my senior colleague covered a lot of...\n",
       "19      Mr. Chairman, I, too, wholeheartedly endorse t...\n",
       "20      I think she brings competence, I think she bri...\n",
       "21      She brought to the Commission initially an inc...\n",
       "22      Now, that's a pretty excellent background to b...\n",
       "23      We have been particularly proud of the job she...\n",
       "24      Then she's also taken the work of unnecessary ...\n",
       "25      In her work at the Federal/State Joint Board, ...\n",
       "26      She was the FCC's rep in 1995 and 1997 and one...\n",
       "27      If we invent it, we want to be able to sell it...\n",
       "28      She's been recognized by her peers, a recipien...\n",
       "29      Electronic Media named her as one of 12 to wat...\n",
       "                              ...                        \n",
       "7708    Thank you, Mr. Chairman, and thank you, Ms. Pr...\n",
       "7709    Let me say at the outset that in a bipartisan ...\n",
       "7710    I would like to begin by talking about a topic...\n",
       "7711    And in the course of that conversation, as I u...\n",
       "7712    As I shared with you, I have been disappointed...\n",
       "7713    And if you are confirmed, I hope that you will...\n",
       "7714    A second area that we talked about that I woul...\n",
       "7715    I think that is the most critical element to e...\n",
       "7716    And we talked quite a bit about the impact of ...\n",
       "7717    Yesterday in confirmation hearings with the no...\n",
       "7718    And indeed his response, which I will confess,...\n",
       "7719    You also suggested in our conversation the con...\n",
       "7720    I very much agree with that notion, and so I w...\n",
       "7721    I look forward to working with you on that, an...\n",
       "7722    And as you know, right now, the vast majority ...\n",
       "7723    And last year's Spectrum Act statutorily requi...\n",
       "7724    In my view, Federal Government ownership of as...\n",
       "7725    And on spectrum, in particular, I would like t...\n",
       "7726    And would you agree to work together to try to...\n",
       "7727    We are about ready to wrap this up, and the un...\n",
       "7728    But I wanted to ask one other question, and fo...\n",
       "7729    But some have criticized the fact that you are...\n",
       "7730    One of the areas under your purview is going t...\n",
       "7731    And the law is intended to prevent domestic in...\n",
       "7732    The Commerce Department determines the precise...\n",
       "7733    entry customs bonds, which are referred to new...\n",
       "7734    The question is, will you commit to provide Co...\n",
       "7735    dumping duties on these agricultural imports f...\n",
       "7736    There are a number of honey producers in South...\n",
       "7737    There is a lot of transshipped honey from Chin...\n",
       "Name: sentence, Length: 7738, dtype: object"
      ]
     },
     "execution_count": 60,
     "metadata": {},
     "output_type": "execute_result"
    }
   ],
   "source": [
    "df.sentence"
   ]
  },
  {
   "cell_type": "markdown",
   "metadata": {},
   "source": [
    "### Distribution"
   ]
  },
  {
   "cell_type": "markdown",
   "metadata": {},
   "source": [
    "Take a look at the distribution of the dataset"
   ]
  },
  {
   "cell_type": "code",
   "execution_count": 61,
   "metadata": {},
   "outputs": [],
   "source": [
    "import seaborn as sns\n",
    "\n",
    "%matplotlib inline"
   ]
  },
  {
   "cell_type": "code",
   "execution_count": 62,
   "metadata": {},
   "outputs": [
    {
     "name": "stdout",
     "output_type": "stream",
     "text": [
      "       count  pencentage\n",
      "label                   \n",
      "D       1001    0.129362\n",
      "N       6737    0.870638\n"
     ]
    },
    {
     "data": {
      "text/plain": [
       "<matplotlib.axes._subplots.AxesSubplot at 0x7ff585925c18>"
      ]
     },
     "execution_count": 62,
     "metadata": {},
     "output_type": "execute_result"
    },
    {
     "data": {
      "image/png": "[encoded data removed]",
      "text/plain": [
       "<Figure size 432x288 with 1 Axes>"
      ]
     },
     "metadata": {
      "needs_background": "light"
     },
     "output_type": "display_data"
    }
   ],
   "source": [
    "df_label_counts = df.groupby(['label']).count()\n",
    "\n",
    "result = pd.concat([df_label_counts, df_label_counts.apply(lambda x: x/x.sum())], axis =1)\n",
    "result.columns = ['count', 'pencentage']\n",
    "print(result)\n",
    "\n",
    "df_label_counts.plot(kind='bar')"
   ]
  },
  {
   "cell_type": "markdown",
   "metadata": {},
   "source": [
    "Our dataset has an *asymetric distribution*"
   ]
  },
  {
   "cell_type": "markdown",
   "metadata": {},
   "source": [
    "## Feature engineering"
   ]
  },
  {
   "cell_type": "markdown",
   "metadata": {},
   "source": [
    "The dataset is mostly natural language. This step involves the application of Natural Language Processing to extract useful data from the *sentences* of the nominations dataset."
   ]
  },
  {
   "cell_type": "markdown",
   "metadata": {},
   "source": [
    "Each row of the dataset is already a sentence, so sentence split is unnecesary.\n",
    "\n",
    "The NLP pipeline for the sentences dataset involves:\n",
    "1. Remove punctuation and stopwords\n",
    "2. Tokenization (1 to 3 ngrams)"
   ]
  },
  {
   "cell_type": "markdown",
   "metadata": {},
   "source": [
    "### NLP Pipeline"
   ]
  },
  {
   "cell_type": "code",
   "execution_count": 63,
   "metadata": {},
   "outputs": [],
   "source": [
    "from sklearn.feature_extraction.text import TfidfVectorizer"
   ]
  },
  {
   "cell_type": "markdown",
   "metadata": {},
   "source": [
    "The docs of the sklearn tfidfvectorizer state the following:\n",
    "\n",
    "<cite>\n",
    "class sklearn.feature_extraction.text.TfidfVectorizer(input=’content’, encoding=’utf-8’, decode_error=’strict’, strip_accents=None, lowercase=True, preprocessor=None, tokenizer=None, analyzer=’word’, stop_words=None, token_pattern=’(?u)\\b\\w\\w+\\b’, ngram_range=(1, 1), max_df=1.0, min_df=1, max_features=None, vocabulary=None, binary=False, dtype=<class ‘numpy.float64’>, norm=’l2’, use_idf=True, smooth_idf=True, sublinear_tf=False)[source]¶\n",
    "</cite>"
   ]
  },
  {
   "cell_type": "markdown",
   "metadata": {},
   "source": [
    "We start with a simple approach by producing 1-grams"
   ]
  },
  {
   "cell_type": "code",
   "execution_count": 64,
   "metadata": {},
   "outputs": [],
   "source": [
    "vec = TfidfVectorizer(lowercase=False, ngram_range=(1,1))"
   ]
  },
  {
   "cell_type": "code",
   "execution_count": 65,
   "metadata": {},
   "outputs": [],
   "source": [
    "vec_fit = vec.fit_transform(df.sentence)"
   ]
  },
  {
   "cell_type": "code",
   "execution_count": 66,
   "metadata": {},
   "outputs": [
    {
     "data": {
      "text/plain": [
       "10839"
      ]
     },
     "execution_count": 66,
     "metadata": {},
     "output_type": "execute_result"
    }
   ],
   "source": [
    "len(vec.get_feature_names())"
   ]
  },
  {
   "cell_type": "code",
   "execution_count": 67,
   "metadata": {},
   "outputs": [
    {
     "data": {
      "text/plain": [
       "<1001x10839 sparse matrix of type '<class 'numpy.float64'>'\n",
       "\twith 24367 stored elements in Compressed Sparse Row format>"
      ]
     },
     "execution_count": 67,
     "metadata": {},
     "output_type": "execute_result"
    }
   ],
   "source": [
    "# Index of 'D' labeled documents\n",
    "idx_D_labeled = df.label[df.label == 'D'].index.tolist()\n",
    "\n",
    "#features of the 'D' labeled documents\n",
    "vec_fit[idx_D_labeled, :]"
   ]
  },
  {
   "cell_type": "markdown",
   "metadata": {},
   "source": [
    "Now, take a look at the frequencies of the features in the whole dataset"
   ]
  },
  {
   "cell_type": "code",
   "execution_count": 68,
   "metadata": {},
   "outputs": [],
   "source": [
    "features_tfidf = pd.Series(vec_fit[idx_D_labeled, :].T.sum(axis=1).ravel().tolist()[0], index=vec.get_feature_names())"
   ]
  },
  {
   "cell_type": "code",
   "execution_count": 69,
   "metadata": {
    "scrolled": true
   },
   "outputs": [
    {
     "data": {
      "text/plain": [
       "<matplotlib.axes._subplots.AxesSubplot at 0x7ff543e5c8d0>"
      ]
     },
     "execution_count": 69,
     "metadata": {},
     "output_type": "execute_result"
    },
    {
     "data": {
      "image/png": "[encoded data removed]",
      "text/plain": [
       "<Figure size 432x288 with 1 Axes>"
      ]
     },
     "metadata": {
      "needs_background": "light"
     },
     "output_type": "display_data"
    }
   ],
   "source": [
    "features_tfidf.sort_values(ascending=False)[:20].plot(kind='bar')"
   ]
  },
  {
   "cell_type": "markdown",
   "metadata": {},
   "source": [
    "The dataset shows a high dimensionality and the top 20 tfidf features are mostly stopwords."
   ]
  },
  {
   "cell_type": "markdown",
   "metadata": {},
   "source": [
    "### Add stopwords"
   ]
  },
  {
   "cell_type": "code",
   "execution_count": 70,
   "metadata": {},
   "outputs": [],
   "source": [
    "vec = TfidfVectorizer(lowercase=False, ngram_range=(1,1), stop_words='english')\n",
    "\n",
    "vec_fit = vec.fit_transform(df.sentence)"
   ]
  },
  {
   "cell_type": "code",
   "execution_count": 71,
   "metadata": {},
   "outputs": [
    {
     "data": {
      "text/plain": [
       "10559"
      ]
     },
     "execution_count": 71,
     "metadata": {},
     "output_type": "execute_result"
    }
   ],
   "source": [
    "len(vec.get_feature_names())"
   ]
  },
  {
   "cell_type": "markdown",
   "metadata": {},
   "source": [
    "Now, take a look at the frequencies of the features in the whole dataset"
   ]
  },
  {
   "cell_type": "code",
   "execution_count": 72,
   "metadata": {},
   "outputs": [],
   "source": [
    "features_tfidf = pd.Series(vec_fit[idx_D_labeled, :].T.sum(axis=1).ravel().tolist()[0], index=vec.get_feature_names())"
   ]
  },
  {
   "cell_type": "code",
   "execution_count": 73,
   "metadata": {
    "scrolled": true
   },
   "outputs": [
    {
     "data": {
      "text/plain": [
       "<matplotlib.axes._subplots.AxesSubplot at 0x7ff5855bfbe0>"
      ]
     },
     "execution_count": 73,
     "metadata": {},
     "output_type": "execute_result"
    },
    {
     "data": {
      "image/png": "[encoded data removed]",
      "text/plain": [
       "<Figure size 1080x576 with 1 Axes>"
      ]
     },
     "metadata": {
      "needs_background": "light"
     },
     "output_type": "display_data"
    }
   ],
   "source": [
    "features_tfidf.sort_values(ascending=False)[:30].plot(kind='barh', figsize=(15,8))"
   ]
  },
  {
   "cell_type": "markdown",
   "metadata": {},
   "source": [
    "### Ngram n=(2,4)"
   ]
  },
  {
   "cell_type": "code",
   "execution_count": 74,
   "metadata": {},
   "outputs": [],
   "source": [
    "vec = TfidfVectorizer(lowercase=False, ngram_range=(2,4), stop_words='english')\n",
    "\n",
    "vec_fit = vec.fit_transform(df.sentence)"
   ]
  },
  {
   "cell_type": "code",
   "execution_count": 75,
   "metadata": {},
   "outputs": [
    {
     "data": {
      "text/plain": [
       "234416"
      ]
     },
     "execution_count": 75,
     "metadata": {},
     "output_type": "execute_result"
    }
   ],
   "source": [
    "len(vec.get_feature_names())"
   ]
  },
  {
   "cell_type": "markdown",
   "metadata": {},
   "source": [
    "Now, take a look at the frequencies of the features in the whole dataset"
   ]
  },
  {
   "cell_type": "code",
   "execution_count": 76,
   "metadata": {},
   "outputs": [],
   "source": [
    "features_tfidf = pd.Series(vec_fit[idx_D_labeled, :].T.sum(axis=1).ravel().tolist()[0], index=vec.get_feature_names())"
   ]
  },
  {
   "cell_type": "code",
   "execution_count": 77,
   "metadata": {
    "scrolled": false
   },
   "outputs": [
    {
     "data": {
      "text/plain": [
       "<matplotlib.axes._subplots.AxesSubplot at 0x7ff55a16f898>"
      ]
     },
     "execution_count": 77,
     "metadata": {},
     "output_type": "execute_result"
    },
    {
     "data": {
      "image/png": "[encoded data removed]",
      "text/plain": [
       "<Figure size 720x576 with 1 Axes>"
      ]
     },
     "metadata": {
      "needs_background": "light"
     },
     "output_type": "display_data"
    }
   ],
   "source": [
    "features_tfidf.sort_values(ascending=False)[:50].plot(kind='barh', figsize=(10,8))"
   ]
  },
  {
   "cell_type": "markdown",
   "metadata": {},
   "source": [
    "There are many names for locations and persons that we could replace with other representative tokens such as LOCATION, ROLE, and NAME.\n",
    "\n",
    "Next step is to use Name Entity Recognition"
   ]
  },
  {
   "cell_type": "markdown",
   "metadata": {},
   "source": [
    "### Name Entity Recognition"
   ]
  },
  {
   "cell_type": "code",
   "execution_count": 78,
   "metadata": {},
   "outputs": [],
   "source": [
    "import textacy"
   ]
  },
  {
   "cell_type": "markdown",
   "metadata": {},
   "source": [
    "We start by identifying some **keywords** in context. \n",
    "\n",
    "The first keyword is 'expertise'"
   ]
  },
  {
   "cell_type": "code",
   "execution_count": 79,
   "metadata": {},
   "outputs": [
    {
     "name": "stdout",
     "output_type": "stream",
     "text": [
      "and they bring a certain amount of  expertise  to government that we certainly ne\n",
      "e that you bring a broad range and  expertise  to the position for which you have\n",
      "dentials and the knowledge and the  expertise  that is consistent with the post. \n",
      "Ms. Victory gained a great deal of  expertise  in wireless and satellite issues, \n",
      "ittee and brings to this Committee  expertise  in areas such as space and insuran\n",
      "he state of Florida has caused his  expertise  to be sought out around the countr\n",
      "an testify as to the character and  expertise  of an individual.                 \n",
      "nk almost 20 years, he also has an  expertise  in the private sector.            \n",
      " increase and a lot of all of this  expertise  had been laid off in the process, \n",
      "mean a considerable layoff of that  expertise  and then when the time comes and i\n",
      ", and you do not have the critical  expertise  in the Department to analyze these\n",
      " individual with his technological  expertise  as one of the leaders in the Offic\n",
      "d in particular make sure that the  expertise  that has been developed at the age\n",
      "proposition that there is a lot of  expertise  in the Northeast part of the Unite\n",
      "spect for your background and your  expertise , we would not make such a push and\n",
      "ssues that Annette has gained such  expertise  and that our country will benefit \n",
      "rity will draw on Asa Hutchinson's  expertise  in addressing these vulnerabilitie\n",
      "lly need to be someone that has an  expertise  in the area of applying technology\n",
      "m that provides the very tools and  expertise  to manufacturers in our country.  \n",
      "                 We think that the  expertise  and the passion that Mike Griffin \n",
      "I think having his leadership, his  expertise , his knowledge at this time when w\n",
      "rtation because of your breadth of  expertise  in the areas that are going to be \n",
      "iatives in all of the areas of its  expertise , including NOAA.                  \n",
      "                            So the  expertise  and experience and background and \n",
      "gislation, we need their technical  expertise .                                  \n",
      " to call in to your agency for the  expertise  that we might need to help us draf\n",
      "s its knowledge, capabilities, and  expertise .                                  \n",
      "e all of my energy, knowledge, and  expertise  to further enhance transportation \n",
      "     I know Mr. Rosekind's area of  expertise  is fatigue, and I know that you as\n",
      "where you kind of get your area of  expertise  and you're kind of so big that's a\n",
      "as we often do look to her for her  expertise .                                  \n",
      "d so we think we have examples and  expertise  that can be shared around the coun\n",
      " to use the University of Hawaii's  expertise  on this important matter?         \n"
     ]
    }
   ],
   "source": [
    "for sent in df.sentence:\n",
    "    textacy.text_utils.KWIC(sent, keyword='expertise', window_width=35)"
   ]
  },
  {
   "cell_type": "markdown",
   "metadata": {},
   "source": [
    "Another keyword may be 'he/she has'"
   ]
  },
  {
   "cell_type": "code",
   "execution_count": 80,
   "metadata": {},
   "outputs": [
    {
     "name": "stdout",
     "output_type": "stream",
     "text": [
      "                                  S he has  been a senior lender to communicati\n",
      "                                  S he has  been a very active leader in our co\n",
      "                                  S he has  done I think a terrific job in hand\n",
      "at the Federal/State Joint Board, s he has  represented us in World Radio Commu\n",
      "  I applaud her for the work that s he has  done, particularly in the area in u\n",
      "                                    He has  the knowledge, he has the legislati\n",
      "             He has the knowledge,  he has  the legislative background, he has \n",
      "he has the legislative background,  he has  the experience, and he has the abil\n",
      "ground, he has the experience, and  he has  the ability, I think, to be a very \n",
      "member in a biological sense, but s he has  Mr. Chris Hart who is a member of t\n",
      "                    For her part, s he has  been willing to change her views af\n",
      "ng time and I appreciate the work s he has  done and the service she has given \n",
      "work she has done and the service s he has  given to her country.              \n",
      "                    The fact that s he has  two adopted children is a side of h\n",
      "                                    He has  served our State in many positions \n",
      "                               But  he has  served with great distinction as Ch\n",
      "rsity of Texas and very proud that  he has  held the very highest position of l\n",
      "                                    He has  helped to make the University of Ge\n",
      "                                  S he has  experience and knowledge garnered i\n",
      "                                    He has  been a great addition to this Subco\n",
      "                               But  he has  got a lot of other things on his pl\n",
      " that area, and then look at where  he has  to site towers and so forth to ensu\n",
      "ar both of these comments, because  he has  a critical role in the Congress as \n",
      "                                    He has  said this is a top priority, and we\n",
      "tly the Deputy Director of OMB and  he has  a history of taking on major challe\n",
      "                           I think  he has  the right skills and capabilities a\n",
      " the tenure of Dan Goldin, because  he has  done some things that allowed us to\n",
      "ious director did, because I think  he has  done a lot of things in unseen plac\n",
      "                                    He has  just done a terrific job for the Su\n",
      "                       Since then,  he has  been an adjunct professor at the Un\n",
      "                                    He has  served as a very able and highly re\n",
      "                             Since  he has  left the state, he has been involve\n",
      "      Since he has left the state,  he has  been involved as an advisor to the \n",
      "                                    He has  since become a consumer advocate, a\n",
      "s long service and the record that  he has  established in this very important \n",
      "I take it that Senator Stevens, if  he has  questions, they would be submitted \n",
      "                                    He has  vast experience with NASA, having c\n",
      " this fight against terrorism, and  he has  my support, as he has the support o\n",
      "rrorism, and he has my support, as  he has  the support of all Americans.      \n",
      "                                    He has  been a kindred spirit and is an out\n",
      "                        In Dallas,  he has  been a managing partner of Jenkins \n",
      "                                    He has  had a great interest in these issue\n",
      "                                    He has  extensive knowledge about our aviat\n",
      "think it is a wonderful thing that  he has  picked such a fine man, a Democrat,\n",
      " that he had to be treated the way  he has  been in the process of being renomi\n",
      " so at the wise old age of 33, so s he has  been blazing a trail for some time.\n",
      "c service, and I am delighted that  he has  been selected for this critical pos\n",
      "itment, integrity, and vision that  he has  brought to his service in Congress \n",
      "me with the aviation side, and now  he has  said he is turning to ports and oth\n",
      "y is off to a very good start, but  he has  signed some orders recently that do\n",
      " during his career with Kellogg's,  he has  managed several international divis\n",
      "                                    He has  his Bachelor of Arts degree in Phys\n",
      " the Johns Hopkins University, and  he has  earned five master's degrees; Aeros\n",
      "                                    He has  held a number of leadership positio\n",
      "nistrative and research interests,  he has  continued to do important academic \n",
      "                                    He has  five master's degrees in a variety \n",
      "                                    He has  worked his way up from being manage\n",
      "                                    He has  enhanced his department's ability t\n",
      "ticularly our freight rail system,  he has  assured me he would focus on that. \n",
      " in many different capacities, and  he has  an outstanding list of accomplishme\n",
      "eed to call Mr. Hernandez, because  he has  brought a crowd here today.        \n",
      "                                    He has  worked so hard his whole life, and \n",
      "                               So s he has  dealt extensively in that position \n",
      "                                  S he has  also served as Vice Chair of the Pr\n",
      "                                  S he has  carried out very significant respon\n",
      "                                    He has  impressive qualifications, and I kn\n",
      "                                    He has  been outspoken in attempting to get\n",
      "on to his professional background,  he has  a wonderful track record of vision \n",
      "                        So I think  he has  had deep experience in exactly what\n",
      "he American people the skills that  he has  accumulated over the past dozen yea\n",
      "the Department of Transportation, s he has  worked tirelessly to promote a clos\n",
      "                                    He has  worked for CMA-CGM America, which i\n",
      " a multimillion-dollar budget that  he has  to oversee there, staff of hundreds\n",
      "applaud Admiral Allen for all that  he has  done on behalf of the Coast Guard, \n",
      "                                    He has  demonstrated his exemplary performa\n",
      "                                    He has  stated that was a Coast Guard decis\n",
      "mission, from the perspective that  he has  had.                               \n",
      "                                    He has  served as outside counsel to numero\n",
      "                                    He has  a unique ability to bring together \n",
      "             But, without a doubt,  he has  pursued policies to restrict market\n",
      "uer has been left out of this, and  he has  a very important job, because he wi\n",
      "                          I think s he has  very substantial experience directl\n",
      "                                  S he has  actually been to South Carolina to \n",
      "rding, as a result of the job that  he has  held, the size and weight of trucks\n",
      "                     In that role,  he has  championed many significant program\n",
      "                                    He has  an extraordinarily distinguished ca\n",
      "                                    He has  balanced the needs that the fightin\n",
      "Charlie Snelling for 25 years, and  he has  been an enormous success in busines\n",
      "                          However,  he has  asked me to submit his letter to th\n",
      "                                    He has  served on the board of directors fo\n",
      " I have worked with Mr. Gros since  he has  been with the Department of Transpo\n",
      "                                    He has  continued to hold that post as the \n",
      " that the 40 years of service that  he has  provided to this country will conti\n",
      "                     For example, s he has  already served as scientific adviso\n",
      "                                  S he has  worked to bring her conclusions hom\n",
      "                                ``S he has  shown that while science should be \n",
      "                                  S he has  been named one of the most highly c\n",
      " mentioned, for her great record, s he has  repeatedly been recognized.        \n",
      "l's leadership with the work that s he has  done with oceans, and the Chairman'\n",
      "will inherit a lot of things that s he has  to get in order, and things to fix,\n",
      "h on her record I can see is that s he has  a Bachelor of Science and a Master'\n",
      "me in, he had raised an issue that  he has  played a leadership role on, along \n",
      "                        Of course,  he has  had extensive knowledge of the FCC,\n",
      "                               And  he has  a great deal that he could--he is a\n",
      "                                    He has  got a pretty mean jump shot and is \n",
      "hority of New Jersey and New York,  he has  distinguished himself as one of the\n",
      "                               And  he has  proven that over his time here in t\n",
      "                      As Chairman,  he has  worked diligently to ensure the saf\n",
      "                               And  he has  great management skills to add to t\n",
      "                                So  he has  been a colleague, a trusted adviser\n",
      "     As long as I have known Bert,  he has  been passionately interested in rai\n",
      "                                    He has  been involved with many Amtrak proj\n",
      "                                  S he has  challenged the men and women of the\n",
      "ces Board on Science Education and  he has  won many accolades for his teaching\n",
      "          As everyone knows well, s he has  been an important member of the Com\n",
      "                                  S he has  a well-earned reputation as an expe\n",
      "est of the year and next--and that  he has  the kind of ability to create jobs \n",
      "                      In addition,  he has  served as a director, chairman, or \n",
      "             And I do believe that  he has  an appreciation for the paramount v\n",
      "                                    He has  the distinction of serving in all t\n",
      "                         As mayor,  he has  done an outstanding job of building\n",
      "dfast service and commitment while  he has  served as Mayor of Charlotte and mo\n",
      "                       Since 2009,  he has  served as the mayor of Charlotte, o\n",
      "                 Most importantly,  he has  been a true champion of transportat\n",
      "ho needs to excuse himself because  he has  got to fly to Hawaii.              \n",
      "ited from offshore tax havens when  he has  criticized that practice for others\n"
     ]
    }
   ],
   "source": [
    "for sent in df.sentence:\n",
    "    textacy.text_utils.KWIC(sent, keyword='he has ', window_width=35)"
   ]
  },
  {
   "cell_type": "markdown",
   "metadata": {},
   "source": [
    "### Corpus"
   ]
  },
  {
   "cell_type": "markdown",
   "metadata": {},
   "source": [
    "Now, create a **Corpus** containing the **Doc** structures for our text. This may take a few minutes, depending on your hardware."
   ]
  },
  {
   "cell_type": "code",
   "execution_count": 81,
   "metadata": {},
   "outputs": [],
   "source": [
    "en = textacy.load_spacy('../data/en_core_web_md/en_core_web_md-2.0.0')#spacy.load('en_core_web_md')"
   ]
  },
  {
   "cell_type": "code",
   "execution_count": 82,
   "metadata": {},
   "outputs": [
    {
     "data": {
      "text/plain": [
       "Corpus(7738 docs; 257978 tokens)"
      ]
     },
     "execution_count": 82,
     "metadata": {},
     "output_type": "execute_result"
    }
   ],
   "source": [
    "corpus = textacy.Corpus(lang='../data/en_core_web_md/en_core_web_md-2.0.0', texts=df.sentence.tolist())\n",
    "corpus"
   ]
  },
  {
   "cell_type": "code",
   "execution_count": 83,
   "metadata": {},
   "outputs": [],
   "source": [
    "vectorizer = textacy.Vectorizer( tf_type='sqrt', apply_idf=True, idf_type='smooth', norm='l2',\\\n",
    "                                min_df=2, max_df=0.95\n",
    "                               )"
   ]
  },
  {
   "cell_type": "code",
   "execution_count": 84,
   "metadata": {},
   "outputs": [],
   "source": [
    "doc_term_matrix = vectorizer.fit_transform((doc.to_terms_list(ngrams=(2,3), named_entities=True, as_strings=True) \\\n",
    "                                            for doc in corpus))"
   ]
  },
  {
   "cell_type": "code",
   "execution_count": 85,
   "metadata": {},
   "outputs": [
    {
     "name": "stdout",
     "output_type": "stream",
     "text": [
      "<7738x40056 sparse matrix of type '<class 'numpy.float64'>'\n",
      "\twith 256006 stored elements in Compressed Sparse Row format>\n"
     ]
    }
   ],
   "source": [
    "print(repr(doc_term_matrix))"
   ]
  },
  {
   "cell_type": "markdown",
   "metadata": {},
   "source": [
    "Let's plot the data"
   ]
  },
  {
   "cell_type": "code",
   "execution_count": 86,
   "metadata": {},
   "outputs": [],
   "source": [
    "features_tfidf = pd.Series(doc_term_matrix[idx_D_labeled, :].T.sum(axis=1).ravel().tolist()[0], index=vectorizer.vocabulary_terms.keys())"
   ]
  },
  {
   "cell_type": "code",
   "execution_count": 87,
   "metadata": {
    "scrolled": false
   },
   "outputs": [
    {
     "data": {
      "text/plain": [
       "<matplotlib.axes._subplots.AxesSubplot at 0x7ff559f471d0>"
      ]
     },
     "execution_count": 87,
     "metadata": {},
     "output_type": "execute_result"
    },
    {
     "data": {
      "image/png": "[encoded data removed]",
      "text/plain": [
       "<Figure size 1080x576 with 1 Axes>"
      ]
     },
     "metadata": {
      "needs_background": "light"
     },
     "output_type": "display_data"
    }
   ],
   "source": [
    "features_tfidf.sort_values(ascending=False)[:50].plot(kind='barh', figsize=(15,8))"
   ]
  },
  {
   "cell_type": "markdown",
   "metadata": {},
   "source": [
    "Let's get a **topic model** for this dataset"
   ]
  },
  {
   "cell_type": "code",
   "execution_count": 88,
   "metadata": {},
   "outputs": [
    {
     "data": {
      "text/plain": [
       "(7738, 10)"
      ]
     },
     "execution_count": 88,
     "metadata": {},
     "output_type": "execute_result"
    }
   ],
   "source": [
    "model = textacy.TopicModel('nmf', n_topics=10)\n",
    "model.fit(doc_term_matrix)\n",
    "doc_topic_matrix = model.transform(doc_term_matrix)\n",
    "doc_topic_matrix.shape"
   ]
  },
  {
   "cell_type": "code",
   "execution_count": 89,
   "metadata": {},
   "outputs": [
    {
     "name": "stdout",
     "output_type": "stream",
     "text": [
      "topic 0 : -PRON- be   of the   that -PRON-   and -PRON-   be a   in the   of -PRON-   and -PRON- be   that be   that -PRON- be\n",
      "topic 1 : go to   be go   be go to   -PRON- be go   go to be   to be   -PRON- be   go to have   to have   to have to\n",
      "topic 2 : look forward   look forward to   forward to   -PRON- look forward   -PRON- look   work with   work with -PRON-   to work with   to work   with -PRON-\n",
      "topic 3 : do not   -PRON- do   -PRON- do not   do not have   not have   and -PRON- do   do not think   not think   but -PRON-   not want\n",
      "topic 4 : would like   -PRON- would like   -PRON- would   like to   would like to   and -PRON- would   like to know   but -PRON- would   to know   if -PRON-\n",
      "topic 5 : -PRON- think   think -PRON-   -PRON- think -PRON-   think -PRON- be   and -PRON- think   think -PRON- have   -PRON- think that   do -PRON- think   and -PRON-   think that\n",
      "topic 6 : -PRON- will   -PRON- hope   that -PRON- will   hope that   will be   -PRON- will be   hope that -PRON-   -PRON- hope that   be able   be able to\n",
      "topic 7 : -PRON- have   have a   that -PRON- have   -PRON- have a   and -PRON- have   have get   -PRON- have get   -PRON- have be   -PRON- have to   have to\n",
      "topic 8 : want to   -PRON- want   -PRON- want to   and -PRON- want   want to make   want to ask   want to thank   to thank   to ask   but -PRON- want\n",
      "topic 9 : a lot   lot of   a lot of   be a lot   there be a   be a   have a lot   there be   lot of people   and a lot\n"
     ]
    }
   ],
   "source": [
    "for topic_idx, top_terms in model.top_topic_terms(vectorizer.id_to_term, top_n=10):\n",
    "    print('topic', topic_idx, ':', '   '.join(top_terms))"
   ]
  },
  {
   "cell_type": "markdown",
   "metadata": {},
   "source": [
    "### Replaces locations, roles and names"
   ]
  },
  {
   "cell_type": "code",
   "execution_count": 90,
   "metadata": {},
   "outputs": [],
   "source": [
    "import nltk"
   ]
  },
  {
   "cell_type": "code",
   "execution_count": 91,
   "metadata": {},
   "outputs": [],
   "source": [
    "grammar = ('''\n",
    "    NP: {<DT>?<JJ>*<NN>} # NP\n",
    "    ''')"
   ]
  },
  {
   "cell_type": "code",
   "execution_count": 92,
   "metadata": {},
   "outputs": [],
   "source": [
    "chunkParser = nltk.RegexpParser(grammar)\n",
    "tagged = nltk.pos_tag(nltk.word_tokenize(df.sentence[0]))\n",
    "#tagged\n",
    "tree = chunkParser.parse(tagged)\n",
    "#tree"
   ]
  },
  {
   "cell_type": "code",
   "execution_count": 93,
   "metadata": {},
   "outputs": [
    {
     "data": {
      "text/plain": [
       "[('Our', 'PRP$'),\n",
       " ('special', 'JJ'),\n",
       " ('guest', 'NN'),\n",
       " ('this', 'DT'),\n",
       " ('morning', 'NN'),\n",
       " ('as', 'IN'),\n",
       " ('we', 'PRP'),\n",
       " ('have', 'VBP'),\n",
       " ('our', 'PRP$'),\n",
       " ('first', 'JJ'),\n",
       " ('hearing', 'NN'),\n",
       " ('or', 'CC'),\n",
       " ('the', 'DT'),\n",
       " ('hearing', 'NN'),\n",
       " ('for', 'IN'),\n",
       " ('the', 'DT'),\n",
       " ('reappointment', 'NN'),\n",
       " ('of', 'IN'),\n",
       " ('Ms.', 'NNP'),\n",
       " ('Ness', 'NNP'),\n",
       " ('to', 'TO'),\n",
       " ('the', 'DT'),\n",
       " ('Federal', 'NNP'),\n",
       " ('Communications', 'NNPS'),\n",
       " ('Commission', 'NNP'),\n",
       " ('.', '.')]"
      ]
     },
     "execution_count": 93,
     "metadata": {},
     "output_type": "execute_result"
    }
   ],
   "source": [
    "tree.leaves()"
   ]
  },
  {
   "cell_type": "code",
   "execution_count": 94,
   "metadata": {},
   "outputs": [
    {
     "name": "stdout",
     "output_type": "stream",
     "text": [
      "guest\n",
      "this morning\n",
      "hearing\n",
      "the hearing\n",
      "the reappointment\n"
     ]
    }
   ],
   "source": [
    "patt = r'<DET>? (<NOUN>+ <ADP|CONJ>)* <NOUN>+'\n",
    "\n",
    "for chunk in textacy.extract.pos_regex_matches(corpus[0], patt):\n",
    "    print(chunk)"
   ]
  },
  {
   "cell_type": "markdown",
   "metadata": {},
   "source": [
    "Let's try a different approach\n",
    "\n",
    "Now, we are going to apply nltk to extract labels of noun phrases [Ref](https://www.commonlounge.com/discussion/2662a77ddcde4102a16d5eb6fa2eff1e)"
   ]
  },
  {
   "cell_type": "code",
   "execution_count": 95,
   "metadata": {},
   "outputs": [],
   "source": [
    "## Snippet source:\n",
    "## https://www.commonlounge.com/discussion/2662a77ddcde4102a16d5eb6fa2eff1e\n",
    "\n",
    "import nltk\n",
    "\n",
    "result = []\n",
    "\n",
    "for sent in df.sentence:\n",
    "    # tokenize doc\n",
    "    tokenized_doc = nltk.word_tokenize(sent)\n",
    "\n",
    "    # tag sentences and use nltk's Named Entity Chunker\n",
    "    tagged_sentences = nltk.pos_tag(tokenized_doc)\n",
    "    ne_chunked_sents = nltk.ne_chunk(tagged_sentences)\n",
    "\n",
    "    # extract all named entities\n",
    "    named_entities = []\n",
    "    for tagged_tree in ne_chunked_sents:\n",
    "        if hasattr(tagged_tree, 'label'):\n",
    "            entity_name = ' '.join(c[0] for c in tagged_tree.leaves()) #\n",
    "            entity_type = tagged_tree.label() # get NE category\n",
    "            named_entities.append((entity_name, entity_type))\n",
    "    \n",
    "    result.append(named_entities)\n"
   ]
  },
  {
   "cell_type": "code",
   "execution_count": 96,
   "metadata": {},
   "outputs": [],
   "source": [
    "flat_list = [pair for line in result for pair in line]"
   ]
  },
  {
   "cell_type": "code",
   "execution_count": 97,
   "metadata": {},
   "outputs": [],
   "source": [
    "df_ner = pd.DataFrame(flat_list, columns=['name', 'label'])"
   ]
  },
  {
   "cell_type": "code",
   "execution_count": 98,
   "metadata": {},
   "outputs": [],
   "source": [
    "df_ner = df_ner.sort_values(['name', 'label']).drop_duplicates()"
   ]
  },
  {
   "cell_type": "code",
   "execution_count": 99,
   "metadata": {},
   "outputs": [
    {
     "data": {
      "text/html": [
       "<div>\n",
       "<style scoped>\n",
       "    .dataframe tbody tr th:only-of-type {\n",
       "        vertical-align: middle;\n",
       "    }\n",
       "\n",
       "    .dataframe tbody tr th {\n",
       "        vertical-align: top;\n",
       "    }\n",
       "\n",
       "    .dataframe thead th {\n",
       "        text-align: right;\n",
       "    }\n",
       "</style>\n",
       "<table border=\"1\" class=\"dataframe\">\n",
       "  <thead>\n",
       "    <tr style=\"text-align: right;\">\n",
       "      <th></th>\n",
       "      <th>name</th>\n",
       "      <th>label</th>\n",
       "    </tr>\n",
       "  </thead>\n",
       "  <tbody>\n",
       "    <tr>\n",
       "      <th>3804</th>\n",
       "      <td>A380</td>\n",
       "      <td>ORGANIZATION</td>\n",
       "    </tr>\n",
       "    <tr>\n",
       "      <th>4833</th>\n",
       "      <td>AASHTO</td>\n",
       "      <td>ORGANIZATION</td>\n",
       "    </tr>\n",
       "    <tr>\n",
       "      <th>5670</th>\n",
       "      <td>ADOT</td>\n",
       "      <td>ORGANIZATION</td>\n",
       "    </tr>\n",
       "    <tr>\n",
       "      <th>3341</th>\n",
       "      <td>AFSCME</td>\n",
       "      <td>ORGANIZATION</td>\n",
       "    </tr>\n",
       "    <tr>\n",
       "      <th>5775</th>\n",
       "      <td>AMT</td>\n",
       "      <td>ORGANIZATION</td>\n",
       "    </tr>\n",
       "    <tr>\n",
       "      <th>7026</th>\n",
       "      <td>ANSI</td>\n",
       "      <td>ORGANIZATION</td>\n",
       "    </tr>\n",
       "    <tr>\n",
       "      <th>3694</th>\n",
       "      <td>ANWR</td>\n",
       "      <td>ORGANIZATION</td>\n",
       "    </tr>\n",
       "    <tr>\n",
       "      <th>170</th>\n",
       "      <td>AOL</td>\n",
       "      <td>ORGANIZATION</td>\n",
       "    </tr>\n",
       "    <tr>\n",
       "      <th>4653</th>\n",
       "      <td>APL</td>\n",
       "      <td>ORGANIZATION</td>\n",
       "    </tr>\n",
       "    <tr>\n",
       "      <th>1524</th>\n",
       "      <td>ATF</td>\n",
       "      <td>ORGANIZATION</td>\n",
       "    </tr>\n",
       "    <tr>\n",
       "      <th>4308</th>\n",
       "      <td>ATMs</td>\n",
       "      <td>ORGANIZATION</td>\n",
       "    </tr>\n",
       "    <tr>\n",
       "      <th>3600</th>\n",
       "      <td>ATO</td>\n",
       "      <td>ORGANIZATION</td>\n",
       "    </tr>\n",
       "    <tr>\n",
       "      <th>6916</th>\n",
       "      <td>ATV</td>\n",
       "      <td>ORGANIZATION</td>\n",
       "    </tr>\n",
       "    <tr>\n",
       "      <th>6976</th>\n",
       "      <td>ATVs</td>\n",
       "      <td>ORGANIZATION</td>\n",
       "    </tr>\n",
       "    <tr>\n",
       "      <th>7494</th>\n",
       "      <td>Aaron</td>\n",
       "      <td>GPE</td>\n",
       "    </tr>\n",
       "    <tr>\n",
       "      <th>7066</th>\n",
       "      <td>Aaron</td>\n",
       "      <td>PERSON</td>\n",
       "    </tr>\n",
       "    <tr>\n",
       "      <th>4681</th>\n",
       "      <td>Aberdeen</td>\n",
       "      <td>GPE</td>\n",
       "    </tr>\n",
       "    <tr>\n",
       "      <th>6995</th>\n",
       "      <td>Abigail Taylor</td>\n",
       "      <td>PERSON</td>\n",
       "    </tr>\n",
       "    <tr>\n",
       "      <th>8489</th>\n",
       "      <td>Academic</td>\n",
       "      <td>GPE</td>\n",
       "    </tr>\n",
       "    <tr>\n",
       "      <th>5158</th>\n",
       "      <td>AccuWeather</td>\n",
       "      <td>ORGANIZATION</td>\n",
       "    </tr>\n",
       "    <tr>\n",
       "      <th>3610</th>\n",
       "      <td>Acela</td>\n",
       "      <td>GPE</td>\n",
       "    </tr>\n",
       "    <tr>\n",
       "      <th>1611</th>\n",
       "      <td>Act</td>\n",
       "      <td>ORGANIZATION</td>\n",
       "    </tr>\n",
       "    <tr>\n",
       "      <th>5003</th>\n",
       "      <td>Acting</td>\n",
       "      <td>ORGANIZATION</td>\n",
       "    </tr>\n",
       "    <tr>\n",
       "      <th>3609</th>\n",
       "      <td>Actual</td>\n",
       "      <td>GPE</td>\n",
       "    </tr>\n",
       "    <tr>\n",
       "      <th>5638</th>\n",
       "      <td>Ad Council</td>\n",
       "      <td>ORGANIZATION</td>\n",
       "    </tr>\n",
       "    <tr>\n",
       "      <th>6473</th>\n",
       "      <td>Adak</td>\n",
       "      <td>GPE</td>\n",
       "    </tr>\n",
       "    <tr>\n",
       "      <th>870</th>\n",
       "      <td>Adams</td>\n",
       "      <td>PERSON</td>\n",
       "    </tr>\n",
       "    <tr>\n",
       "      <th>6280</th>\n",
       "      <td>Add</td>\n",
       "      <td>GPE</td>\n",
       "    </tr>\n",
       "    <tr>\n",
       "      <th>7060</th>\n",
       "      <td>Adele</td>\n",
       "      <td>PERSON</td>\n",
       "    </tr>\n",
       "    <tr>\n",
       "      <th>2540</th>\n",
       "      <td>Adelstein</td>\n",
       "      <td>ORGANIZATION</td>\n",
       "    </tr>\n",
       "    <tr>\n",
       "      <th>...</th>\n",
       "      <td>...</td>\n",
       "      <td>...</td>\n",
       "    </tr>\n",
       "    <tr>\n",
       "      <th>60</th>\n",
       "      <td>Winston Churchill</td>\n",
       "      <td>PERSON</td>\n",
       "    </tr>\n",
       "    <tr>\n",
       "      <th>45</th>\n",
       "      <td>Wireless</td>\n",
       "      <td>ORGANIZATION</td>\n",
       "    </tr>\n",
       "    <tr>\n",
       "      <th>931</th>\n",
       "      <td>Wolff</td>\n",
       "      <td>ORGANIZATION</td>\n",
       "    </tr>\n",
       "    <tr>\n",
       "      <th>2513</th>\n",
       "      <td>Women</td>\n",
       "      <td>GPE</td>\n",
       "    </tr>\n",
       "    <tr>\n",
       "      <th>3643</th>\n",
       "      <td>Woodrow Wilson Bridge</td>\n",
       "      <td>ORGANIZATION</td>\n",
       "    </tr>\n",
       "    <tr>\n",
       "      <th>6687</th>\n",
       "      <td>Woods Hole</td>\n",
       "      <td>GPE</td>\n",
       "    </tr>\n",
       "    <tr>\n",
       "      <th>8422</th>\n",
       "      <td>Worcester</td>\n",
       "      <td>ORGANIZATION</td>\n",
       "    </tr>\n",
       "    <tr>\n",
       "      <th>8417</th>\n",
       "      <td>Worcester Airport</td>\n",
       "      <td>ORGANIZATION</td>\n",
       "    </tr>\n",
       "    <tr>\n",
       "      <th>5084</th>\n",
       "      <td>Workforce</td>\n",
       "      <td>ORGANIZATION</td>\n",
       "    </tr>\n",
       "    <tr>\n",
       "      <th>7348</th>\n",
       "      <td>World Trade Center</td>\n",
       "      <td>ORGANIZATION</td>\n",
       "    </tr>\n",
       "    <tr>\n",
       "      <th>3169</th>\n",
       "      <td>World Trade Centers</td>\n",
       "      <td>ORGANIZATION</td>\n",
       "    </tr>\n",
       "    <tr>\n",
       "      <th>2707</th>\n",
       "      <td>WorldCom</td>\n",
       "      <td>ORGANIZATION</td>\n",
       "    </tr>\n",
       "    <tr>\n",
       "      <th>7777</th>\n",
       "      <td>Wright Brothers Bicycle Shop</td>\n",
       "      <td>ORGANIZATION</td>\n",
       "    </tr>\n",
       "    <tr>\n",
       "      <th>1823</th>\n",
       "      <td>Wyden</td>\n",
       "      <td>PERSON</td>\n",
       "    </tr>\n",
       "    <tr>\n",
       "      <th>264</th>\n",
       "      <td>Wyoming</td>\n",
       "      <td>GPE</td>\n",
       "    </tr>\n",
       "    <tr>\n",
       "      <th>2441</th>\n",
       "      <td>Y2K</td>\n",
       "      <td>PERSON</td>\n",
       "    </tr>\n",
       "    <tr>\n",
       "      <th>7152</th>\n",
       "      <td>YMCA</td>\n",
       "      <td>ORGANIZATION</td>\n",
       "    </tr>\n",
       "    <tr>\n",
       "      <th>2033</th>\n",
       "      <td>Yale</td>\n",
       "      <td>GPE</td>\n",
       "    </tr>\n",
       "    <tr>\n",
       "      <th>5845</th>\n",
       "      <td>Yale Law School</td>\n",
       "      <td>PERSON</td>\n",
       "    </tr>\n",
       "    <tr>\n",
       "      <th>7247</th>\n",
       "      <td>Yankee</td>\n",
       "      <td>ORGANIZATION</td>\n",
       "    </tr>\n",
       "    <tr>\n",
       "      <th>1797</th>\n",
       "      <td>Yellowstone</td>\n",
       "      <td>GPE</td>\n",
       "    </tr>\n",
       "    <tr>\n",
       "      <th>5576</th>\n",
       "      <td>YouTube</td>\n",
       "      <td>ORGANIZATION</td>\n",
       "    </tr>\n",
       "    <tr>\n",
       "      <th>1863</th>\n",
       "      <td>Young</td>\n",
       "      <td>GPE</td>\n",
       "    </tr>\n",
       "    <tr>\n",
       "      <th>1873</th>\n",
       "      <td>Young</td>\n",
       "      <td>ORGANIZATION</td>\n",
       "    </tr>\n",
       "    <tr>\n",
       "      <th>1867</th>\n",
       "      <td>Young Commission</td>\n",
       "      <td>ORGANIZATION</td>\n",
       "    </tr>\n",
       "    <tr>\n",
       "      <th>1732</th>\n",
       "      <td>Young Report</td>\n",
       "      <td>ORGANIZATION</td>\n",
       "    </tr>\n",
       "    <tr>\n",
       "      <th>8219</th>\n",
       "      <td>Zachary</td>\n",
       "      <td>PERSON</td>\n",
       "    </tr>\n",
       "    <tr>\n",
       "      <th>706</th>\n",
       "      <td>Zenith</td>\n",
       "      <td>GPE</td>\n",
       "    </tr>\n",
       "    <tr>\n",
       "      <th>4389</th>\n",
       "      <td>mid-America</td>\n",
       "      <td>GPE</td>\n",
       "    </tr>\n",
       "    <tr>\n",
       "      <th>8468</th>\n",
       "      <td>middle-class Americans</td>\n",
       "      <td>ORGANIZATION</td>\n",
       "    </tr>\n",
       "  </tbody>\n",
       "</table>\n",
       "<p>2516 rows × 2 columns</p>\n",
       "</div>"
      ],
      "text/plain": [
       "                              name         label\n",
       "3804                          A380  ORGANIZATION\n",
       "4833                        AASHTO  ORGANIZATION\n",
       "5670                          ADOT  ORGANIZATION\n",
       "3341                        AFSCME  ORGANIZATION\n",
       "5775                           AMT  ORGANIZATION\n",
       "7026                          ANSI  ORGANIZATION\n",
       "3694                          ANWR  ORGANIZATION\n",
       "170                            AOL  ORGANIZATION\n",
       "4653                           APL  ORGANIZATION\n",
       "1524                           ATF  ORGANIZATION\n",
       "4308                          ATMs  ORGANIZATION\n",
       "3600                           ATO  ORGANIZATION\n",
       "6916                           ATV  ORGANIZATION\n",
       "6976                          ATVs  ORGANIZATION\n",
       "7494                         Aaron           GPE\n",
       "7066                         Aaron        PERSON\n",
       "4681                      Aberdeen           GPE\n",
       "6995                Abigail Taylor        PERSON\n",
       "8489                      Academic           GPE\n",
       "5158                   AccuWeather  ORGANIZATION\n",
       "3610                         Acela           GPE\n",
       "1611                           Act  ORGANIZATION\n",
       "5003                        Acting  ORGANIZATION\n",
       "3609                        Actual           GPE\n",
       "5638                    Ad Council  ORGANIZATION\n",
       "6473                          Adak           GPE\n",
       "870                          Adams        PERSON\n",
       "6280                           Add           GPE\n",
       "7060                         Adele        PERSON\n",
       "2540                     Adelstein  ORGANIZATION\n",
       "...                            ...           ...\n",
       "60               Winston Churchill        PERSON\n",
       "45                        Wireless  ORGANIZATION\n",
       "931                          Wolff  ORGANIZATION\n",
       "2513                         Women           GPE\n",
       "3643         Woodrow Wilson Bridge  ORGANIZATION\n",
       "6687                    Woods Hole           GPE\n",
       "8422                     Worcester  ORGANIZATION\n",
       "8417             Worcester Airport  ORGANIZATION\n",
       "5084                     Workforce  ORGANIZATION\n",
       "7348            World Trade Center  ORGANIZATION\n",
       "3169           World Trade Centers  ORGANIZATION\n",
       "2707                      WorldCom  ORGANIZATION\n",
       "7777  Wright Brothers Bicycle Shop  ORGANIZATION\n",
       "1823                         Wyden        PERSON\n",
       "264                        Wyoming           GPE\n",
       "2441                           Y2K        PERSON\n",
       "7152                          YMCA  ORGANIZATION\n",
       "2033                          Yale           GPE\n",
       "5845               Yale Law School        PERSON\n",
       "7247                        Yankee  ORGANIZATION\n",
       "1797                   Yellowstone           GPE\n",
       "5576                       YouTube  ORGANIZATION\n",
       "1863                         Young           GPE\n",
       "1873                         Young  ORGANIZATION\n",
       "1867              Young Commission  ORGANIZATION\n",
       "1732                  Young Report  ORGANIZATION\n",
       "8219                       Zachary        PERSON\n",
       "706                         Zenith           GPE\n",
       "4389                   mid-America           GPE\n",
       "8468        middle-class Americans  ORGANIZATION\n",
       "\n",
       "[2516 rows x 2 columns]"
      ]
     },
     "execution_count": 99,
     "metadata": {},
     "output_type": "execute_result"
    }
   ],
   "source": [
    "df_ner"
   ]
  },
  {
   "cell_type": "markdown",
   "metadata": {},
   "source": [
    "What are the unique labels?"
   ]
  },
  {
   "cell_type": "code",
   "execution_count": 101,
   "metadata": {},
   "outputs": [
    {
     "data": {
      "text/plain": [
       "array(['ORGANIZATION', 'GPE', 'PERSON', 'GSP', 'FACILITY', 'LOCATION'],\n",
       "      dtype=object)"
      ]
     },
     "execution_count": 101,
     "metadata": {},
     "output_type": "execute_result"
    }
   ],
   "source": [
    "df_ner.label.unique()"
   ]
  },
  {
   "cell_type": "code",
   "execution_count": 102,
   "metadata": {},
   "outputs": [
    {
     "data": {
      "text/plain": [
       "(2516, 2)"
      ]
     },
     "execution_count": 102,
     "metadata": {},
     "output_type": "execute_result"
    }
   ],
   "source": [
    "df_ner.shape"
   ]
  },
  {
   "cell_type": "code",
   "execution_count": 103,
   "metadata": {},
   "outputs": [
    {
     "data": {
      "text/plain": [
       "2273"
      ]
     },
     "execution_count": 103,
     "metadata": {},
     "output_type": "execute_result"
    }
   ],
   "source": [
    "len(df_ner.name.unique())"
   ]
  }
 ],
 "metadata": {
  "kernelspec": {
   "display_name": "pj_fit",
   "language": "python",
   "name": "pj_fit"
  },
  "language_info": {
   "codemirror_mode": {
    "name": "ipython",
    "version": 3
   },
   "file_extension": ".py",
   "mimetype": "text/x-python",
   "name": "python",
   "nbconvert_exporter": "python",
   "pygments_lexer": "ipython3",
   "version": "3.5.2"
  }
 },
 "nbformat": 4,
 "nbformat_minor": 2
}
